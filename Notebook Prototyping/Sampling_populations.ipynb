{
 "cells": [
  {
   "cell_type": "code",
   "execution_count": 3,
   "metadata": {},
   "outputs": [],
   "source": [
    "import gwpopulation\n",
    "from gwpopulation.models.redshift import PowerLawRedshift\n",
    "from bilby.core.result import read_in_result\n",
    "from scipy.interpolate import interp1d\n",
    "import numpy as np\n",
    "import deepdish as dd\n",
    "import matplotlib.pyplot as plt"
   ]
  },
  {
   "cell_type": "markdown",
   "metadata": {},
   "source": [
    "## Loading in Hyperposterior samples from GWTC-3 data release PowerLawPlusPeak model"
   ]
  },
  {
   "cell_type": "code",
   "execution_count": 4,
   "metadata": {},
   "outputs": [],
   "source": [
    "PP_path = '../GWTC-3-population-data/analyses/PowerLawPeak/o1o2o3_mass_c_iid_mag_iid_tilt_powerlaw_redshift_result.json'\n",
    "PP_result = read_in_result(PP_path)"
   ]
  },
  {
   "cell_type": "code",
   "execution_count": 5,
   "metadata": {},
   "outputs": [
    {
     "name": "stdout",
     "output_type": "stream",
     "text": [
      "run label:  o1o2o3_mass_c_iid_mag_iid_tilt_powerlaw_redshift\n"
     ]
    }
   ],
   "source": [
    "print(\"run label: \", PP_result.label)"
   ]
  },
  {
   "cell_type": "code",
   "execution_count": 6,
   "metadata": {},
   "outputs": [
    {
     "data": {
      "text/html": [
       "<div>\n",
       "<style scoped>\n",
       "    .dataframe tbody tr th:only-of-type {\n",
       "        vertical-align: middle;\n",
       "    }\n",
       "\n",
       "    .dataframe tbody tr th {\n",
       "        vertical-align: top;\n",
       "    }\n",
       "\n",
       "    .dataframe thead th {\n",
       "        text-align: right;\n",
       "    }\n",
       "</style>\n",
       "<table border=\"1\" class=\"dataframe\">\n",
       "  <thead>\n",
       "    <tr style=\"text-align: right;\">\n",
       "      <th></th>\n",
       "      <th>alpha</th>\n",
       "      <th>beta</th>\n",
       "      <th>mmax</th>\n",
       "      <th>mmin</th>\n",
       "      <th>lam</th>\n",
       "      <th>mpp</th>\n",
       "      <th>sigpp</th>\n",
       "      <th>delta_m</th>\n",
       "      <th>mu_chi</th>\n",
       "      <th>sigma_chi</th>\n",
       "      <th>...</th>\n",
       "      <th>lamb</th>\n",
       "      <th>amax</th>\n",
       "      <th>log_likelihood</th>\n",
       "      <th>log_prior</th>\n",
       "      <th>selection</th>\n",
       "      <th>pdet_n_effective</th>\n",
       "      <th>surveyed_hypervolume</th>\n",
       "      <th>log_10_rate</th>\n",
       "      <th>rate</th>\n",
       "      <th>min_event_n_effective</th>\n",
       "    </tr>\n",
       "  </thead>\n",
       "  <tbody>\n",
       "    <tr>\n",
       "      <th>0</th>\n",
       "      <td>3.476035</td>\n",
       "      <td>1.192781</td>\n",
       "      <td>91.137635</td>\n",
       "      <td>3.335027</td>\n",
       "      <td>0.045152</td>\n",
       "      <td>32.019619</td>\n",
       "      <td>7.361617</td>\n",
       "      <td>5.502380</td>\n",
       "      <td>0.430299</td>\n",
       "      <td>0.037676</td>\n",
       "      <td>...</td>\n",
       "      <td>0.593878</td>\n",
       "      <td>1.0</td>\n",
       "      <td>86.219165</td>\n",
       "      <td>-20.158271</td>\n",
       "      <td>0.001980</td>\n",
       "      <td>5600.884717</td>\n",
       "      <td>1102.923927</td>\n",
       "      <td>1.539321</td>\n",
       "      <td>34.619495</td>\n",
       "      <td>184.210871</td>\n",
       "    </tr>\n",
       "    <tr>\n",
       "      <th>1</th>\n",
       "      <td>2.843807</td>\n",
       "      <td>0.551632</td>\n",
       "      <td>92.336309</td>\n",
       "      <td>3.455594</td>\n",
       "      <td>0.099132</td>\n",
       "      <td>21.146326</td>\n",
       "      <td>9.635711</td>\n",
       "      <td>3.504334</td>\n",
       "      <td>0.229716</td>\n",
       "      <td>0.027052</td>\n",
       "      <td>...</td>\n",
       "      <td>3.899003</td>\n",
       "      <td>1.0</td>\n",
       "      <td>88.795439</td>\n",
       "      <td>-20.158271</td>\n",
       "      <td>0.000176</td>\n",
       "      <td>7628.305892</td>\n",
       "      <td>24548.963167</td>\n",
       "      <td>1.203419</td>\n",
       "      <td>15.974191</td>\n",
       "      <td>91.831207</td>\n",
       "    </tr>\n",
       "    <tr>\n",
       "      <th>2</th>\n",
       "      <td>4.127894</td>\n",
       "      <td>1.910420</td>\n",
       "      <td>99.382743</td>\n",
       "      <td>4.114949</td>\n",
       "      <td>0.058528</td>\n",
       "      <td>26.304442</td>\n",
       "      <td>9.105968</td>\n",
       "      <td>4.430823</td>\n",
       "      <td>0.297703</td>\n",
       "      <td>0.036759</td>\n",
       "      <td>...</td>\n",
       "      <td>-0.096742</td>\n",
       "      <td>1.0</td>\n",
       "      <td>89.598445</td>\n",
       "      <td>-20.158271</td>\n",
       "      <td>0.002577</td>\n",
       "      <td>4734.966457</td>\n",
       "      <td>617.064144</td>\n",
       "      <td>1.681428</td>\n",
       "      <td>48.020645</td>\n",
       "      <td>94.982019</td>\n",
       "    </tr>\n",
       "    <tr>\n",
       "      <th>3</th>\n",
       "      <td>4.512565</td>\n",
       "      <td>1.291055</td>\n",
       "      <td>98.845047</td>\n",
       "      <td>2.963035</td>\n",
       "      <td>0.007879</td>\n",
       "      <td>32.267134</td>\n",
       "      <td>9.914114</td>\n",
       "      <td>9.800366</td>\n",
       "      <td>0.378698</td>\n",
       "      <td>0.052658</td>\n",
       "      <td>...</td>\n",
       "      <td>3.511903</td>\n",
       "      <td>1.0</td>\n",
       "      <td>90.035214</td>\n",
       "      <td>-20.158271</td>\n",
       "      <td>0.000295</td>\n",
       "      <td>5654.797132</td>\n",
       "      <td>16703.390755</td>\n",
       "      <td>1.146385</td>\n",
       "      <td>14.008291</td>\n",
       "      <td>289.936772</td>\n",
       "    </tr>\n",
       "    <tr>\n",
       "      <th>4</th>\n",
       "      <td>2.772482</td>\n",
       "      <td>0.149371</td>\n",
       "      <td>94.491001</td>\n",
       "      <td>5.138160</td>\n",
       "      <td>0.035747</td>\n",
       "      <td>30.469008</td>\n",
       "      <td>8.569162</td>\n",
       "      <td>3.361789</td>\n",
       "      <td>0.336149</td>\n",
       "      <td>0.034270</td>\n",
       "      <td>...</td>\n",
       "      <td>2.514446</td>\n",
       "      <td>1.0</td>\n",
       "      <td>90.339131</td>\n",
       "      <td>-20.158271</td>\n",
       "      <td>0.000582</td>\n",
       "      <td>8247.427572</td>\n",
       "      <td>6336.065138</td>\n",
       "      <td>1.302851</td>\n",
       "      <td>20.084052</td>\n",
       "      <td>261.964627</td>\n",
       "    </tr>\n",
       "    <tr>\n",
       "      <th>...</th>\n",
       "      <td>...</td>\n",
       "      <td>...</td>\n",
       "      <td>...</td>\n",
       "      <td>...</td>\n",
       "      <td>...</td>\n",
       "      <td>...</td>\n",
       "      <td>...</td>\n",
       "      <td>...</td>\n",
       "      <td>...</td>\n",
       "      <td>...</td>\n",
       "      <td>...</td>\n",
       "      <td>...</td>\n",
       "      <td>...</td>\n",
       "      <td>...</td>\n",
       "      <td>...</td>\n",
       "      <td>...</td>\n",
       "      <td>...</td>\n",
       "      <td>...</td>\n",
       "      <td>...</td>\n",
       "      <td>...</td>\n",
       "      <td>...</td>\n",
       "    </tr>\n",
       "    <tr>\n",
       "      <th>11179</th>\n",
       "      <td>3.388853</td>\n",
       "      <td>1.075150</td>\n",
       "      <td>89.768520</td>\n",
       "      <td>4.684262</td>\n",
       "      <td>0.030388</td>\n",
       "      <td>35.727936</td>\n",
       "      <td>3.478996</td>\n",
       "      <td>5.246642</td>\n",
       "      <td>0.244086</td>\n",
       "      <td>0.027675</td>\n",
       "      <td>...</td>\n",
       "      <td>2.733047</td>\n",
       "      <td>1.0</td>\n",
       "      <td>107.871029</td>\n",
       "      <td>-20.158271</td>\n",
       "      <td>0.000525</td>\n",
       "      <td>3796.539977</td>\n",
       "      <td>7811.787060</td>\n",
       "      <td>1.235183</td>\n",
       "      <td>17.186329</td>\n",
       "      <td>71.639539</td>\n",
       "    </tr>\n",
       "    <tr>\n",
       "      <th>11180</th>\n",
       "      <td>3.684463</td>\n",
       "      <td>1.539779</td>\n",
       "      <td>81.785901</td>\n",
       "      <td>5.327478</td>\n",
       "      <td>0.030328</td>\n",
       "      <td>34.102957</td>\n",
       "      <td>3.505780</td>\n",
       "      <td>5.133147</td>\n",
       "      <td>0.251205</td>\n",
       "      <td>0.033394</td>\n",
       "      <td>...</td>\n",
       "      <td>3.171738</td>\n",
       "      <td>1.0</td>\n",
       "      <td>107.877236</td>\n",
       "      <td>-20.158271</td>\n",
       "      <td>0.000377</td>\n",
       "      <td>4006.532961</td>\n",
       "      <td>11954.783380</td>\n",
       "      <td>1.175202</td>\n",
       "      <td>14.969305</td>\n",
       "      <td>72.109121</td>\n",
       "    </tr>\n",
       "    <tr>\n",
       "      <th>11181</th>\n",
       "      <td>3.684463</td>\n",
       "      <td>1.539779</td>\n",
       "      <td>81.785901</td>\n",
       "      <td>5.327478</td>\n",
       "      <td>0.030328</td>\n",
       "      <td>34.102957</td>\n",
       "      <td>3.505780</td>\n",
       "      <td>5.133147</td>\n",
       "      <td>0.251205</td>\n",
       "      <td>0.033394</td>\n",
       "      <td>...</td>\n",
       "      <td>3.171738</td>\n",
       "      <td>1.0</td>\n",
       "      <td>107.877236</td>\n",
       "      <td>-20.158271</td>\n",
       "      <td>0.000377</td>\n",
       "      <td>4006.532961</td>\n",
       "      <td>11954.783380</td>\n",
       "      <td>1.169904</td>\n",
       "      <td>14.787819</td>\n",
       "      <td>72.109121</td>\n",
       "    </tr>\n",
       "    <tr>\n",
       "      <th>11182</th>\n",
       "      <td>3.573136</td>\n",
       "      <td>0.627634</td>\n",
       "      <td>88.689645</td>\n",
       "      <td>5.303211</td>\n",
       "      <td>0.029184</td>\n",
       "      <td>34.600418</td>\n",
       "      <td>3.531467</td>\n",
       "      <td>4.342366</td>\n",
       "      <td>0.229689</td>\n",
       "      <td>0.032670</td>\n",
       "      <td>...</td>\n",
       "      <td>3.456785</td>\n",
       "      <td>1.0</td>\n",
       "      <td>107.909312</td>\n",
       "      <td>-20.158271</td>\n",
       "      <td>0.000266</td>\n",
       "      <td>3745.787380</td>\n",
       "      <td>15818.169705</td>\n",
       "      <td>1.239911</td>\n",
       "      <td>17.374440</td>\n",
       "      <td>73.194989</td>\n",
       "    </tr>\n",
       "    <tr>\n",
       "      <th>11183</th>\n",
       "      <td>3.573136</td>\n",
       "      <td>0.627634</td>\n",
       "      <td>88.689645</td>\n",
       "      <td>5.303211</td>\n",
       "      <td>0.029184</td>\n",
       "      <td>34.600418</td>\n",
       "      <td>3.531467</td>\n",
       "      <td>4.342366</td>\n",
       "      <td>0.229689</td>\n",
       "      <td>0.032670</td>\n",
       "      <td>...</td>\n",
       "      <td>3.456785</td>\n",
       "      <td>1.0</td>\n",
       "      <td>107.909312</td>\n",
       "      <td>-20.158271</td>\n",
       "      <td>0.000266</td>\n",
       "      <td>3745.787380</td>\n",
       "      <td>15818.169705</td>\n",
       "      <td>1.110645</td>\n",
       "      <td>12.901634</td>\n",
       "      <td>73.194989</td>\n",
       "    </tr>\n",
       "  </tbody>\n",
       "</table>\n",
       "<p>11184 rows × 22 columns</p>\n",
       "</div>"
      ],
      "text/plain": [
       "          alpha      beta       mmax      mmin       lam        mpp     sigpp  \\\n",
       "0      3.476035  1.192781  91.137635  3.335027  0.045152  32.019619  7.361617   \n",
       "1      2.843807  0.551632  92.336309  3.455594  0.099132  21.146326  9.635711   \n",
       "2      4.127894  1.910420  99.382743  4.114949  0.058528  26.304442  9.105968   \n",
       "3      4.512565  1.291055  98.845047  2.963035  0.007879  32.267134  9.914114   \n",
       "4      2.772482  0.149371  94.491001  5.138160  0.035747  30.469008  8.569162   \n",
       "...         ...       ...        ...       ...       ...        ...       ...   \n",
       "11179  3.388853  1.075150  89.768520  4.684262  0.030388  35.727936  3.478996   \n",
       "11180  3.684463  1.539779  81.785901  5.327478  0.030328  34.102957  3.505780   \n",
       "11181  3.684463  1.539779  81.785901  5.327478  0.030328  34.102957  3.505780   \n",
       "11182  3.573136  0.627634  88.689645  5.303211  0.029184  34.600418  3.531467   \n",
       "11183  3.573136  0.627634  88.689645  5.303211  0.029184  34.600418  3.531467   \n",
       "\n",
       "        delta_m    mu_chi  sigma_chi  ...      lamb  amax  log_likelihood  \\\n",
       "0      5.502380  0.430299   0.037676  ...  0.593878   1.0       86.219165   \n",
       "1      3.504334  0.229716   0.027052  ...  3.899003   1.0       88.795439   \n",
       "2      4.430823  0.297703   0.036759  ... -0.096742   1.0       89.598445   \n",
       "3      9.800366  0.378698   0.052658  ...  3.511903   1.0       90.035214   \n",
       "4      3.361789  0.336149   0.034270  ...  2.514446   1.0       90.339131   \n",
       "...         ...       ...        ...  ...       ...   ...             ...   \n",
       "11179  5.246642  0.244086   0.027675  ...  2.733047   1.0      107.871029   \n",
       "11180  5.133147  0.251205   0.033394  ...  3.171738   1.0      107.877236   \n",
       "11181  5.133147  0.251205   0.033394  ...  3.171738   1.0      107.877236   \n",
       "11182  4.342366  0.229689   0.032670  ...  3.456785   1.0      107.909312   \n",
       "11183  4.342366  0.229689   0.032670  ...  3.456785   1.0      107.909312   \n",
       "\n",
       "       log_prior  selection  pdet_n_effective  surveyed_hypervolume  \\\n",
       "0     -20.158271   0.001980       5600.884717           1102.923927   \n",
       "1     -20.158271   0.000176       7628.305892          24548.963167   \n",
       "2     -20.158271   0.002577       4734.966457            617.064144   \n",
       "3     -20.158271   0.000295       5654.797132          16703.390755   \n",
       "4     -20.158271   0.000582       8247.427572           6336.065138   \n",
       "...          ...        ...               ...                   ...   \n",
       "11179 -20.158271   0.000525       3796.539977           7811.787060   \n",
       "11180 -20.158271   0.000377       4006.532961          11954.783380   \n",
       "11181 -20.158271   0.000377       4006.532961          11954.783380   \n",
       "11182 -20.158271   0.000266       3745.787380          15818.169705   \n",
       "11183 -20.158271   0.000266       3745.787380          15818.169705   \n",
       "\n",
       "       log_10_rate       rate  min_event_n_effective  \n",
       "0         1.539321  34.619495             184.210871  \n",
       "1         1.203419  15.974191              91.831207  \n",
       "2         1.681428  48.020645              94.982019  \n",
       "3         1.146385  14.008291             289.936772  \n",
       "4         1.302851  20.084052             261.964627  \n",
       "...            ...        ...                    ...  \n",
       "11179     1.235183  17.186329              71.639539  \n",
       "11180     1.175202  14.969305              72.109121  \n",
       "11181     1.169904  14.787819              72.109121  \n",
       "11182     1.239911  17.374440              73.194989  \n",
       "11183     1.110645  12.901634              73.194989  \n",
       "\n",
       "[11184 rows x 22 columns]"
      ]
     },
     "execution_count": 6,
     "metadata": {},
     "output_type": "execute_result"
    }
   ],
   "source": [
    "PP_hyperposterior_samples = PP_result.posterior.copy() # making a copy is best practice here so you don't accidentally modify things in-place\n",
    "PP_hyperposterior_samples"
   ]
  },
  {
   "cell_type": "code",
   "execution_count": 7,
   "metadata": {},
   "outputs": [
    {
     "data": {
      "text/plain": [
       "Index(['alpha', 'beta', 'mmax', 'mmin', 'lam', 'mpp', 'sigpp', 'delta_m',\n",
       "       'mu_chi', 'sigma_chi', 'xi_spin', 'sigma_spin', 'lamb', 'amax',\n",
       "       'log_likelihood', 'log_prior', 'selection', 'pdet_n_effective',\n",
       "       'surveyed_hypervolume', 'log_10_rate', 'rate', 'min_event_n_effective'],\n",
       "      dtype='object')"
      ]
     },
     "execution_count": 7,
     "metadata": {},
     "output_type": "execute_result"
    }
   ],
   "source": [
    "PP_hyperposterior_samples.keys()"
   ]
  },
  {
   "cell_type": "markdown",
   "metadata": {},
   "source": [
    "## Generating m_1 model from hyperposterior sample using two_componant_single function from gwpopulation"
   ]
  },
  {
   "cell_type": "code",
   "execution_count": 12,
   "metadata": {},
   "outputs": [],
   "source": [
    "def gen_PLPP_model(mass, q, hyperpost_samp):\n",
    "    \"\"\"\n",
    "    Returns gwpopulation.models.mass.SinglePeakSmoothedMassDistribution from array of massesand  hyperposterior sample in \n",
    "    form of pandas data frame.\n",
    "    Posterior samples should have keys:\n",
    "    ['alpha', 'beta', 'mmax', 'mmin', 'lam', 'mpp', 'sigpp', 'delta_m',\n",
    "       'mu_chi', 'sigma_chi', 'xi_spin', 'sigma_spin', 'lamb', 'amax',\n",
    "       'log_likelihood', 'log_prior', 'selection', 'pdet_n_effective',\n",
    "       'surveyed_hypervolume', 'log_10_rate', 'rate', 'min_event_n_effective']\n",
    "    \"\"\"\n",
    "    param_dict = {'mass_1':mass, 'mass_ratio':q}\n",
    "\n",
    "    alpha = hyperpost_samp['alpha']\n",
    "    beta = hyperpost_samp['beta']\n",
    "    mmin = hyperpost_samp['mmin']\n",
    "    mmax = hyperpost_samp['mmax']\n",
    "    lam = hyperpost_samp['lam']\n",
    "    mpp = hyperpost_samp['mpp']\n",
    "    sigpp = hyperpost_samp['sigpp']\n",
    "    break_fraction = hyperpost_samp['delta_m']\n",
    "\n",
    "    return gwpopulation.models.mass.two_component_single(mass, alpha, mmin, mmax, lam, \\\n",
    "        mpp, sigpp)\n"
   ]
  },
  {
   "cell_type": "code",
   "execution_count": 13,
   "metadata": {},
   "outputs": [],
   "source": [
    "masses= np.linspace(2.,100.)\n",
    "qs= np.linspace(0.,1.)\n",
    "PLPP = gen_PLPP_model(masses, qs, PP_hyperposterior_samples.iloc[7900])"
   ]
  },
  {
   "cell_type": "code",
   "execution_count": 14,
   "metadata": {},
   "outputs": [
    {
     "data": {
      "text/plain": [
       "Text(0, 0.5, 'p(mass|lambda)')"
      ]
     },
     "execution_count": 14,
     "metadata": {},
     "output_type": "execute_result"
    },
    {
     "data": {
      "image/png": "[encoded data removed]",
      "text/plain": [
       "<Figure size 640x480 with 1 Axes>"
      ]
     },
     "metadata": {},
     "output_type": "display_data"
    }
   ],
   "source": [
    "plt.plot(masses, PLPP)\n",
    "plt.xlabel('m_1 /solar masses')\n",
    "plt.ylabel('p(mass|lambda)')\n",
    "#plt.yscale('log')"
   ]
  },
  {
   "cell_type": "markdown",
   "metadata": {},
   "source": [
    "## Checking this gives the same as the SinglePeakSmoothedMassDistribution gwpopulation class"
   ]
  },
  {
   "cell_type": "code",
   "execution_count": 15,
   "metadata": {},
   "outputs": [],
   "source": [
    "def gen_mass_model(mass, q, hyperpost_samp):\n",
    "    \"\"\"\n",
    "    Returns gwpopulation.models.mass.SinglePeakSmoothedMassDistribution from array of massesand  hyperposterior sample in \n",
    "    form of pandas data frame.\n",
    "    Posterior samples should have keys:\n",
    "    ['alpha', 'beta', 'mmax', 'mmin', 'lam', 'mpp', 'sigpp', 'delta_m',\n",
    "       'mu_chi', 'sigma_chi', 'xi_spin', 'sigma_spin', 'lamb', 'amax',\n",
    "       'log_likelihood', 'log_prior', 'selection', 'pdet_n_effective',\n",
    "       'surveyed_hypervolume', 'log_10_rate', 'rate', 'min_event_n_effective']\n",
    "    \"\"\"\n",
    "    param_dict = {'mass_1':mass, 'mass_ratio':q}\n",
    "\n",
    "    alpha = hyperpost_samp['alpha']\n",
    "    beta = hyperpost_samp['beta']\n",
    "    mmin = hyperpost_samp['mmin']\n",
    "    mmax = hyperpost_samp['mmax']\n",
    "    lam = hyperpost_samp['lam']\n",
    "    mpp = hyperpost_samp['mpp']\n",
    "    sigpp = hyperpost_samp['sigpp']\n",
    "    break_fraction = hyperpost_samp['delta_m']\n",
    "\n",
    "    mass_model = gwpopulation.models.mass.SinglePeakSmoothedMassDistribution()\n",
    "\n",
    "    return mass_model.p_m1(param_dict, **{'alpha':alpha, 'mmin':mmin, 'mmax':mmax, 'lam':lam, \\\n",
    "        'mpp':mpp, 'sigpp':sigpp})\n"
   ]
  },
  {
   "cell_type": "code",
   "execution_count": 16,
   "metadata": {},
   "outputs": [],
   "source": [
    "masses= np.linspace(2.,100.,1000)\n",
    "qs= np.linspace(0.,1.,10000)\n",
    "PLPP = gen_mass_model(masses, qs, PP_hyperposterior_samples.iloc[7900])"
   ]
  },
  {
   "cell_type": "code",
   "execution_count": 17,
   "metadata": {},
   "outputs": [
    {
     "data": {
      "text/plain": [
       "Text(0, 0.5, 'p(mass|lambda)')"
      ]
     },
     "execution_count": 17,
     "metadata": {},
     "output_type": "execute_result"
    },
    {
     "data": {
      "image/png": "[encoded data removed]",
      "text/plain": [
       "<Figure size 640x480 with 1 Axes>"
      ]
     },
     "metadata": {},
     "output_type": "display_data"
    }
   ],
   "source": [
    "plt.plot(masses, PLPP)\n",
    "plt.xlabel('m_1 /solar masses')\n",
    "plt.ylabel('p(mass|lambda)')\n",
    "#plt.yscale('log')"
   ]
  },
  {
   "cell_type": "markdown",
   "metadata": {},
   "source": [
    "## Returning mass ratio distribution from SinglePeakSmoothedMassDistribution (broken?)"
   ]
  },
  {
   "cell_type": "code",
   "execution_count": 18,
   "metadata": {},
   "outputs": [],
   "source": [
    "def gen_q_model(mass, q, hyperpost_samp):\n",
    "    \"\"\"\n",
    "    Returns gwpopulation.models.mass.SinglePeakSmoothedMassDistribution from array of massesand  hyperposterior sample in \n",
    "    form of pandas data frame.\n",
    "    Posterior samples should have keys:\n",
    "    ['alpha', 'beta', 'mmax', 'mmin', 'lam', 'mpp', 'sigpp', 'delta_m',\n",
    "       'mu_chi', 'sigma_chi', 'xi_spin', 'sigma_spin', 'lamb', 'amax',\n",
    "       'log_likelihood', 'log_prior', 'selection', 'pdet_n_effective',\n",
    "       'surveyed_hypervolume', 'log_10_rate', 'rate', 'min_event_n_effective']\n",
    "    \"\"\"\n",
    "    param_dict = {'mass_1':mass, 'mass_ratio':q}\n",
    "\n",
    "    beta = hyperpost_samp['beta']\n",
    "    mmin = hyperpost_samp['mmin']\n",
    "    break_fraction = hyperpost_samp['delta_m']\n",
    "\n",
    "    q_model = gwpopulation.models.mass.SinglePeakSmoothedMassDistribution()\n",
    "\n",
    "    return q_model.p_q(param_dict, beta, mmin, break_fraction)\n"
   ]
  },
  {
   "cell_type": "code",
   "execution_count": 19,
   "metadata": {},
   "outputs": [
    {
     "name": "stderr",
     "output_type": "stream",
     "text": [
      "/data/wiay/2297403c/conda_envs/GWTC-3-population/lib/python3.9/site-packages/gwpopulation/models/mass.py:554: RuntimeWarning: overflow encountered in exp\n",
      "  window[smoothing_region] = 1 / (xp.exp(exponent) + 1)\n"
     ]
    },
    {
     "ename": "AttributeError",
     "evalue": "module 'numpy' has no attribute 'int'.\n`np.int` was a deprecated alias for the builtin `int`. To avoid this error in existing code, use `int` by itself. Doing this will not modify any behavior and is safe. When replacing `np.int`, you may wish to use e.g. `np.int64` or `np.int32` to specify the precision. If you wish to review your current use, check the release note link for additional information.\nThe aliases was originally deprecated in NumPy 1.20; for more details and guidance see the original release note at:\n    https://numpy.org/devdocs/release/1.20.0-notes.html#deprecations",
     "output_type": "error",
     "traceback": [
      "\u001b[0;31m---------------------------------------------------------------------------\u001b[0m",
      "\u001b[0;31mAttributeError\u001b[0m                            Traceback (most recent call last)",
      "File \u001b[0;32m/data/wiay/2297403c/conda_envs/GWTC-3-population/lib/python3.9/site-packages/gwpopulation/models/mass.py:490\u001b[0m, in \u001b[0;36mBaseSmoothedMassDistribution.p_q\u001b[0;34m(self, dataset, beta, mmin, delta_m)\u001b[0m\n\u001b[1;32m    489\u001b[0m \u001b[39mtry\u001b[39;00m:\n\u001b[0;32m--> 490\u001b[0m     p_q \u001b[39m/\u001b[39m\u001b[39m=\u001b[39m \u001b[39mself\u001b[39;49m\u001b[39m.\u001b[39;49mnorm_p_q(beta\u001b[39m=\u001b[39;49mbeta, mmin\u001b[39m=\u001b[39;49mmmin, delta_m\u001b[39m=\u001b[39;49mdelta_m)\n\u001b[1;32m    491\u001b[0m \u001b[39mexcept\u001b[39;00m (\u001b[39mAttributeError\u001b[39;00m, \u001b[39mTypeError\u001b[39;00m, \u001b[39mValueError\u001b[39;00m):\n",
      "File \u001b[0;32m/data/wiay/2297403c/conda_envs/GWTC-3-population/lib/python3.9/site-packages/gwpopulation/models/mass.py:508\u001b[0m, in \u001b[0;36mBaseSmoothedMassDistribution.norm_p_q\u001b[0;34m(self, beta, mmin, delta_m)\u001b[0m\n\u001b[1;32m    505\u001b[0m norms \u001b[39m=\u001b[39m trapz(p_q, \u001b[39mself\u001b[39m\u001b[39m.\u001b[39mqs, axis\u001b[39m=\u001b[39m\u001b[39m0\u001b[39m)\n\u001b[1;32m    507\u001b[0m all_norms \u001b[39m=\u001b[39m (\n\u001b[0;32m--> 508\u001b[0m     norms[\u001b[39mself\u001b[39;49m\u001b[39m.\u001b[39;49mn_below] \u001b[39m*\u001b[39m (\u001b[39m1\u001b[39m \u001b[39m-\u001b[39m \u001b[39mself\u001b[39m\u001b[39m.\u001b[39mstep) \u001b[39m+\u001b[39m norms[\u001b[39mself\u001b[39m\u001b[39m.\u001b[39mn_above] \u001b[39m*\u001b[39m \u001b[39mself\u001b[39m\u001b[39m.\u001b[39mstep\n\u001b[1;32m    509\u001b[0m )\n\u001b[1;32m    511\u001b[0m \u001b[39mreturn\u001b[39;00m all_norms\n",
      "\u001b[0;31mAttributeError\u001b[0m: 'SinglePeakSmoothedMassDistribution' object has no attribute 'n_below'",
      "\nDuring handling of the above exception, another exception occurred:\n",
      "\u001b[0;31mAttributeError\u001b[0m                            Traceback (most recent call last)",
      "Cell \u001b[0;32mIn[19], line 3\u001b[0m\n\u001b[1;32m      1\u001b[0m masses\u001b[39m=\u001b[39m np\u001b[39m.\u001b[39mlinspace(\u001b[39m2.\u001b[39m,\u001b[39m100.\u001b[39m,\u001b[39m1000\u001b[39m)\n\u001b[1;32m      2\u001b[0m qs\u001b[39m=\u001b[39m np\u001b[39m.\u001b[39mlinspace(\u001b[39m0.\u001b[39m,\u001b[39m1.\u001b[39m,\u001b[39m1000\u001b[39m)\n\u001b[0;32m----> 3\u001b[0m PLQ \u001b[39m=\u001b[39m gen_q_model(masses, qs, PP_hyperposterior_samples\u001b[39m.\u001b[39;49miloc[\u001b[39m7900\u001b[39;49m])\n",
      "Cell \u001b[0;32mIn[18], line 19\u001b[0m, in \u001b[0;36mgen_q_model\u001b[0;34m(mass, q, hyperpost_samp)\u001b[0m\n\u001b[1;32m     15\u001b[0m break_fraction \u001b[39m=\u001b[39m hyperpost_samp[\u001b[39m'\u001b[39m\u001b[39mdelta_m\u001b[39m\u001b[39m'\u001b[39m]\n\u001b[1;32m     17\u001b[0m q_model \u001b[39m=\u001b[39m gwpopulation\u001b[39m.\u001b[39mmodels\u001b[39m.\u001b[39mmass\u001b[39m.\u001b[39mSinglePeakSmoothedMassDistribution()\n\u001b[0;32m---> 19\u001b[0m \u001b[39mreturn\u001b[39;00m q_model\u001b[39m.\u001b[39;49mp_q(param_dict, beta, mmin, break_fraction)\n",
      "File \u001b[0;32m/data/wiay/2297403c/conda_envs/GWTC-3-population/lib/python3.9/site-packages/gwpopulation/models/mass.py:492\u001b[0m, in \u001b[0;36mBaseSmoothedMassDistribution.p_q\u001b[0;34m(self, dataset, beta, mmin, delta_m)\u001b[0m\n\u001b[1;32m    490\u001b[0m     p_q \u001b[39m/\u001b[39m\u001b[39m=\u001b[39m \u001b[39mself\u001b[39m\u001b[39m.\u001b[39mnorm_p_q(beta\u001b[39m=\u001b[39mbeta, mmin\u001b[39m=\u001b[39mmmin, delta_m\u001b[39m=\u001b[39mdelta_m)\n\u001b[1;32m    491\u001b[0m \u001b[39mexcept\u001b[39;00m (\u001b[39mAttributeError\u001b[39;00m, \u001b[39mTypeError\u001b[39;00m, \u001b[39mValueError\u001b[39;00m):\n\u001b[0;32m--> 492\u001b[0m     \u001b[39mself\u001b[39;49m\u001b[39m.\u001b[39;49m_cache_q_norms(dataset[\u001b[39m\"\u001b[39;49m\u001b[39mmass_1\u001b[39;49m\u001b[39m\"\u001b[39;49m])\n\u001b[1;32m    493\u001b[0m     p_q \u001b[39m/\u001b[39m\u001b[39m=\u001b[39m \u001b[39mself\u001b[39m\u001b[39m.\u001b[39mnorm_p_q(beta\u001b[39m=\u001b[39mbeta, mmin\u001b[39m=\u001b[39mmmin, delta_m\u001b[39m=\u001b[39mdelta_m)\n\u001b[1;32m    495\u001b[0m \u001b[39mreturn\u001b[39;00m xp\u001b[39m.\u001b[39mnan_to_num(p_q)\n",
      "File \u001b[0;32m/data/wiay/2297403c/conda_envs/GWTC-3-population/lib/python3.9/site-packages/gwpopulation/models/mass.py:518\u001b[0m, in \u001b[0;36mBaseSmoothedMassDistribution._cache_q_norms\u001b[0;34m(self, masses)\u001b[0m\n\u001b[1;32m    513\u001b[0m \u001b[39mdef\u001b[39;00m \u001b[39m_cache_q_norms\u001b[39m(\u001b[39mself\u001b[39m, masses):\n\u001b[1;32m    514\u001b[0m \u001b[39m    \u001b[39m\u001b[39m\"\"\"\u001b[39;00m\n\u001b[1;32m    515\u001b[0m \u001b[39m    Cache the information necessary for linear interpolation of the mass\u001b[39;00m\n\u001b[1;32m    516\u001b[0m \u001b[39m    ratio normalisation\u001b[39;00m\n\u001b[1;32m    517\u001b[0m \u001b[39m    \"\"\"\u001b[39;00m\n\u001b[0;32m--> 518\u001b[0m     \u001b[39mself\u001b[39m\u001b[39m.\u001b[39mn_below \u001b[39m=\u001b[39m xp\u001b[39m.\u001b[39mzeros_like(masses, dtype\u001b[39m=\u001b[39mxp\u001b[39m.\u001b[39;49mint) \u001b[39m-\u001b[39m \u001b[39m1\u001b[39m\n\u001b[1;32m    519\u001b[0m     m_below \u001b[39m=\u001b[39m xp\u001b[39m.\u001b[39mzeros_like(masses)\n\u001b[1;32m    520\u001b[0m     \u001b[39mfor\u001b[39;00m mm \u001b[39min\u001b[39;00m \u001b[39mself\u001b[39m\u001b[39m.\u001b[39mm1s:\n",
      "File \u001b[0;32m~/.local/lib/python3.9/site-packages/numpy/__init__.py:305\u001b[0m, in \u001b[0;36m__getattr__\u001b[0;34m(attr)\u001b[0m\n\u001b[1;32m    300\u001b[0m     warnings\u001b[39m.\u001b[39mwarn(\n\u001b[1;32m    301\u001b[0m         \u001b[39mf\u001b[39m\u001b[39m\"\u001b[39m\u001b[39mIn the future `np.\u001b[39m\u001b[39m{\u001b[39;00mattr\u001b[39m}\u001b[39;00m\u001b[39m` will be defined as the \u001b[39m\u001b[39m\"\u001b[39m\n\u001b[1;32m    302\u001b[0m         \u001b[39m\"\u001b[39m\u001b[39mcorresponding NumPy scalar.\u001b[39m\u001b[39m\"\u001b[39m, \u001b[39mFutureWarning\u001b[39;00m, stacklevel\u001b[39m=\u001b[39m\u001b[39m2\u001b[39m)\n\u001b[1;32m    304\u001b[0m \u001b[39mif\u001b[39;00m attr \u001b[39min\u001b[39;00m __former_attrs__:\n\u001b[0;32m--> 305\u001b[0m     \u001b[39mraise\u001b[39;00m \u001b[39mAttributeError\u001b[39;00m(__former_attrs__[attr])\n\u001b[1;32m    307\u001b[0m \u001b[39m# Importing Tester requires importing all of UnitTest which is not a\u001b[39;00m\n\u001b[1;32m    308\u001b[0m \u001b[39m# cheap import Since it is mainly used in test suits, we lazy import it\u001b[39;00m\n\u001b[1;32m    309\u001b[0m \u001b[39m# here to save on the order of 10 ms of import time for most users\u001b[39;00m\n\u001b[1;32m    310\u001b[0m \u001b[39m#\u001b[39;00m\n\u001b[1;32m    311\u001b[0m \u001b[39m# The previous way Tester was imported also had a side effect of adding\u001b[39;00m\n\u001b[1;32m    312\u001b[0m \u001b[39m# the full `numpy.testing` namespace\u001b[39;00m\n\u001b[1;32m    313\u001b[0m \u001b[39mif\u001b[39;00m attr \u001b[39m==\u001b[39m \u001b[39m'\u001b[39m\u001b[39mtesting\u001b[39m\u001b[39m'\u001b[39m:\n",
      "\u001b[0;31mAttributeError\u001b[0m: module 'numpy' has no attribute 'int'.\n`np.int` was a deprecated alias for the builtin `int`. To avoid this error in existing code, use `int` by itself. Doing this will not modify any behavior and is safe. When replacing `np.int`, you may wish to use e.g. `np.int64` or `np.int32` to specify the precision. If you wish to review your current use, check the release note link for additional information.\nThe aliases was originally deprecated in NumPy 1.20; for more details and guidance see the original release note at:\n    https://numpy.org/devdocs/release/1.20.0-notes.html#deprecations"
     ]
    }
   ],
   "source": [
    "masses= np.linspace(2.,100.,1000)\n",
    "qs= np.linspace(0.,1.,1000)\n",
    "PLQ = gen_q_model(masses, qs, PP_hyperposterior_samples.iloc[7900])"
   ]
  },
  {
   "cell_type": "markdown",
   "metadata": {},
   "source": [
    "## Generating redshift model from gwpopulation PowerLawRedshift (broken?)"
   ]
  },
  {
   "cell_type": "code",
   "execution_count": 20,
   "metadata": {},
   "outputs": [],
   "source": [
    "def gen_z_model(z, hyperpost_samp):\n",
    "    \"\"\"\n",
    "    Returns gwpopulation.models.mass.SinglePeakSmoothedMassDistribution from array of massesand  hyperposterior sample in \n",
    "    form of pandas data frame.\n",
    "    Posterior samples should have keys:\n",
    "    ['alpha', 'beta', 'mmax', 'mmin', 'lam', 'mpp', 'sigpp', 'delta_m',\n",
    "       'mu_chi', 'sigma_chi', 'xi_spin', 'sigma_spin', 'lamb', 'amax',\n",
    "       'log_likelihood', 'log_prior', 'selection', 'pdet_n_effective',\n",
    "       'surveyed_hypervolume', 'log_10_rate', 'rate', 'min_event_n_effective']\n",
    "    \"\"\"\n",
    "\n",
    "    lamb = hyperpost_samp['lamb']\n",
    "    param_dict = {'z':z, \"lamb\":lamb}\n",
    "\n",
    "    z_model = gwpopulation.models.redshift.PowerLawRedshift()\n",
    "\n",
    "    return z_model.probability(z)"
   ]
  },
  {
   "cell_type": "code",
   "execution_count": 21,
   "metadata": {},
   "outputs": [
    {
     "ename": "KeyError",
     "evalue": "'lamb'",
     "output_type": "error",
     "traceback": [
      "\u001b[0;31m---------------------------------------------------------------------------\u001b[0m",
      "\u001b[0;31mKeyError\u001b[0m                                  Traceback (most recent call last)",
      "Cell \u001b[0;32mIn[21], line 2\u001b[0m\n\u001b[1;32m      1\u001b[0m zs\u001b[39m=\u001b[39m np\u001b[39m.\u001b[39mlinspace(\u001b[39m0.\u001b[39m,\u001b[39m2.3\u001b[39m,\u001b[39m1000\u001b[39m)\n\u001b[0;32m----> 2\u001b[0m PLZ \u001b[39m=\u001b[39m gen_z_model(zs, PP_hyperposterior_samples\u001b[39m.\u001b[39;49miloc[\u001b[39m7900\u001b[39;49m])\n",
      "Cell \u001b[0;32mIn[20], line 17\u001b[0m, in \u001b[0;36mgen_z_model\u001b[0;34m(z, hyperpost_samp)\u001b[0m\n\u001b[1;32m     13\u001b[0m param_dict \u001b[39m=\u001b[39m {\u001b[39m'\u001b[39m\u001b[39mz\u001b[39m\u001b[39m'\u001b[39m:z, \u001b[39m\"\u001b[39m\u001b[39mlamb\u001b[39m\u001b[39m\"\u001b[39m:lamb}\n\u001b[1;32m     15\u001b[0m z_model \u001b[39m=\u001b[39m gwpopulation\u001b[39m.\u001b[39mmodels\u001b[39m.\u001b[39mredshift\u001b[39m.\u001b[39mPowerLawRedshift()\n\u001b[0;32m---> 17\u001b[0m \u001b[39mreturn\u001b[39;00m z_model\u001b[39m.\u001b[39;49mprobability(z)\n",
      "File \u001b[0;32m/data/wiay/2297403c/conda_envs/GWTC-3-population/lib/python3.9/site-packages/gwpopulation/models/redshift.py:55\u001b[0m, in \u001b[0;36m_Redshift.probability\u001b[0;34m(self, dataset, **parameters)\u001b[0m\n\u001b[1;32m     54\u001b[0m \u001b[39mdef\u001b[39;00m \u001b[39mprobability\u001b[39m(\u001b[39mself\u001b[39m, dataset, \u001b[39m*\u001b[39m\u001b[39m*\u001b[39mparameters):\n\u001b[0;32m---> 55\u001b[0m     normalisation \u001b[39m=\u001b[39m \u001b[39mself\u001b[39;49m\u001b[39m.\u001b[39;49mnormalisation(parameters\u001b[39m=\u001b[39;49mparameters)\n\u001b[1;32m     56\u001b[0m     differential_volume \u001b[39m=\u001b[39m \u001b[39mself\u001b[39m\u001b[39m.\u001b[39mdifferential_spacetime_volume(\n\u001b[1;32m     57\u001b[0m         dataset\u001b[39m=\u001b[39mdataset, \u001b[39m*\u001b[39m\u001b[39m*\u001b[39mparameters\n\u001b[1;32m     58\u001b[0m     )\n\u001b[1;32m     59\u001b[0m     in_bounds \u001b[39m=\u001b[39m dataset[\u001b[39m\"\u001b[39m\u001b[39mredshift\u001b[39m\u001b[39m\"\u001b[39m] \u001b[39m<\u001b[39m\u001b[39m=\u001b[39m \u001b[39mself\u001b[39m\u001b[39m.\u001b[39mz_max\n",
      "File \u001b[0;32m/data/wiay/2297403c/conda_envs/GWTC-3-population/lib/python3.9/site-packages/gwpopulation/models/redshift.py:50\u001b[0m, in \u001b[0;36m_Redshift.normalisation\u001b[0;34m(self, parameters)\u001b[0m\n\u001b[1;32m     34\u001b[0m \u001b[39mdef\u001b[39;00m \u001b[39mnormalisation\u001b[39m(\u001b[39mself\u001b[39m, parameters):\n\u001b[1;32m     35\u001b[0m \u001b[39m    \u001b[39m\u001b[39mr\u001b[39m\u001b[39m\"\"\"\u001b[39;00m\n\u001b[1;32m     36\u001b[0m \u001b[39m    Compute the normalization or differential spacetime volume.\u001b[39;00m\n\u001b[1;32m     37\u001b[0m \n\u001b[0;32m   (...)\u001b[0m\n\u001b[1;32m     48\u001b[0m \u001b[39m    (float, array-like): Total spacetime volume\u001b[39;00m\n\u001b[1;32m     49\u001b[0m \u001b[39m    \"\"\"\u001b[39;00m\n\u001b[0;32m---> 50\u001b[0m     psi_of_z \u001b[39m=\u001b[39m \u001b[39mself\u001b[39;49m\u001b[39m.\u001b[39;49mpsi_of_z(redshift\u001b[39m=\u001b[39;49m\u001b[39mself\u001b[39;49m\u001b[39m.\u001b[39;49mzs, \u001b[39m*\u001b[39;49m\u001b[39m*\u001b[39;49mparameters)\n\u001b[1;32m     51\u001b[0m     norm \u001b[39m=\u001b[39m trapz(psi_of_z \u001b[39m*\u001b[39m \u001b[39mself\u001b[39m\u001b[39m.\u001b[39mdvc_dz \u001b[39m/\u001b[39m (\u001b[39m1\u001b[39m \u001b[39m+\u001b[39m \u001b[39mself\u001b[39m\u001b[39m.\u001b[39mzs), \u001b[39mself\u001b[39m\u001b[39m.\u001b[39mzs)\n\u001b[1;32m     52\u001b[0m     \u001b[39mreturn\u001b[39;00m norm\n",
      "File \u001b[0;32m/data/wiay/2297403c/conda_envs/GWTC-3-population/lib/python3.9/site-packages/gwpopulation/models/redshift.py:125\u001b[0m, in \u001b[0;36mPowerLawRedshift.psi_of_z\u001b[0;34m(self, redshift, **parameters)\u001b[0m\n\u001b[1;32m    124\u001b[0m \u001b[39mdef\u001b[39;00m \u001b[39mpsi_of_z\u001b[39m(\u001b[39mself\u001b[39m, redshift, \u001b[39m*\u001b[39m\u001b[39m*\u001b[39mparameters):\n\u001b[0;32m--> 125\u001b[0m     \u001b[39mreturn\u001b[39;00m (\u001b[39m1\u001b[39m \u001b[39m+\u001b[39m redshift) \u001b[39m*\u001b[39m\u001b[39m*\u001b[39m parameters[\u001b[39m\"\u001b[39;49m\u001b[39mlamb\u001b[39;49m\u001b[39m\"\u001b[39;49m]\n",
      "\u001b[0;31mKeyError\u001b[0m: 'lamb'"
     ]
    }
   ],
   "source": [
    "zs= np.linspace(0.,2.3,1000)\n",
    "PLZ = gen_z_model(zs, PP_hyperposterior_samples.iloc[7900])"
   ]
  },
  {
   "cell_type": "markdown",
   "metadata": {},
   "source": [
    "## Generating spin models with iid_spin_magnitude_beta for spin magnitudes and iid_spin_orientation_gaussian_isotropic for spin tilts"
   ]
  },
  {
   "cell_type": "code",
   "execution_count": 39,
   "metadata": {},
   "outputs": [],
   "source": [
    "def gen_spin_model(chi, hyperpost_samp):\n",
    "    \"\"\"\n",
    "    Returns gwpopulation.models.mass.SinglePeakSmoothedMassDistribution from array of massesand  hyperposterior sample in \n",
    "    form of pandas data frame.\n",
    "    Posterior samples should have keys:\n",
    "    ['alpha', 'beta', 'mmax', 'mmin', 'lam', 'mpp', 'sigpp', 'delta_m',\n",
    "       'mu_chi', 'sigma_chi', 'xi_spin', 'sigma_spin', 'lamb', 'amax',\n",
    "       'log_likelihood', 'log_prior', 'selection', 'pdet_n_effective',\n",
    "       'surveyed_hypervolume', 'log_10_rate', 'rate', 'min_event_n_effective']\n",
    "    \"\"\"\n",
    "\n",
    "    amax = hyperpost_samp['amax']\n",
    "    #notation is different in hyperposterior samples to gwpopulation/gwtc-3 pop paper:\n",
    "    alpha_chi = hyperpost_samp['mu_chi']\n",
    "    beta_chi = hyperpost_samp['sigma_chi']\n",
    "\n",
    "    param_dict = {'a_1':chi, 'a_2':chi}\n",
    "\n",
    "\n",
    "    return gwpopulation.models.spin.iid_spin_magnitude_beta(param_dict, amax=amax, alpha_chi=alpha_chi, beta_chi=beta_chi)"
   ]
  },
  {
   "cell_type": "code",
   "execution_count": 40,
   "metadata": {},
   "outputs": [],
   "source": [
    "chis= np.linspace(0.,1.,1000)\n",
    "IID_spinmag = gen_spin_model(chis, PP_hyperposterior_samples.iloc[7900])"
   ]
  },
  {
   "cell_type": "code",
   "execution_count": 41,
   "metadata": {},
   "outputs": [
    {
     "data": {
      "text/plain": [
       "Text(0, 0.5, 'p(chi_i|lambda)')"
      ]
     },
     "execution_count": 41,
     "metadata": {},
     "output_type": "execute_result"
    },
    {
     "data": {
      "image/png": "[encoded data removed]",
      "text/plain": [
       "<Figure size 640x480 with 1 Axes>"
      ]
     },
     "metadata": {},
     "output_type": "display_data"
    }
   ],
   "source": [
    "plt.plot(chis, IID_spinmag)\n",
    "plt.xlabel('chi_i')\n",
    "plt.ylabel('p(chi_i|lambda)')"
   ]
  },
  {
   "cell_type": "code",
   "execution_count": 32,
   "metadata": {},
   "outputs": [],
   "source": [
    "def gen_spin_tilts(cos_tilt, hyperpost_samp):\n",
    "    \"\"\"\n",
    "    Returns gwpopulation.models.mass.SinglePeakSmoothedMassDistribution from array of massesand  hyperposterior sample in \n",
    "    form of pandas data frame.\n",
    "    Posterior samples should have keys:\n",
    "    ['alpha', 'beta', 'mmax', 'mmin', 'lam', 'mpp', 'sigpp', 'delta_m',\n",
    "       'mu_chi', 'sigma_chi', 'xi_spin', 'sigma_spin', 'lamb', 'amax',\n",
    "       'log_likelihood', 'log_prior', 'selection', 'pdet_n_effective',\n",
    "       'surveyed_hypervolume', 'log_10_rate', 'rate', 'min_event_n_effective']\n",
    "    \"\"\"\n",
    "\n",
    "    xi_spin = hyperpost_samp['xi_spin']\n",
    "    sigma_spin = hyperpost_samp['sigma_spin']\n",
    "\n",
    "    param_dict = {'cos_tilt_1':cos_tilt, 'cos_tilt_2':cos_tilt}\n",
    "\n",
    "\n",
    "    return gwpopulation.models.spin.iid_spin_orientation_gaussian_isotropic(param_dict, xi_spin, sigma_spin)"
   ]
  },
  {
   "cell_type": "code",
   "execution_count": 34,
   "metadata": {},
   "outputs": [],
   "source": [
    "tilts= np.linspace(-1.,1.,1000)\n",
    "IID_spintilts = gen_spin_tilts(tilts, PP_hyperposterior_samples.iloc[7900])"
   ]
  },
  {
   "cell_type": "code",
   "execution_count": 35,
   "metadata": {},
   "outputs": [
    {
     "data": {
      "text/plain": [
       "Text(0, 0.5, 'p(cos tilt|lambda)')"
      ]
     },
     "execution_count": 35,
     "metadata": {},
     "output_type": "execute_result"
    },
    {
     "data": {
      "image/png": "[encoded data removed]",
      "text/plain": [
       "<Figure size 640x480 with 1 Axes>"
      ]
     },
     "metadata": {},
     "output_type": "display_data"
    }
   ],
   "source": [
    "plt.plot(tilts, IID_spintilts)\n",
    "plt.xlabel('cos tilt')\n",
    "plt.ylabel('p(cos tilt|lambda)')"
   ]
  }
 ],
 "metadata": {
  "kernelspec": {
   "display_name": "Python 3.9.0 ('GWTC-3-population': conda)",
   "language": "python",
   "name": "python3"
  },
  "language_info": {
   "codemirror_mode": {
    "name": "ipython",
    "version": 3
   },
   "file_extension": ".py",
   "mimetype": "text/x-python",
   "name": "python",
   "nbconvert_exporter": "python",
   "pygments_lexer": "ipython3",
   "version": "3.9.0"
  },
  "orig_nbformat": 4,
  "vscode": {
   "interpreter": {
    "hash": "d21c81ae52df049a46deecacc45299844adff7229cbccdc945518f7681ab23c4"
   }
  }
 },
 "nbformat": 4,
 "nbformat_minor": 2
}
