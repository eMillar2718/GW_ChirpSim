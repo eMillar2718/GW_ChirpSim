{
 "cells": [
  {
   "cell_type": "code",
   "execution_count": 10,
   "id": "d0aab6b2-1cd2-402c-95cf-ed29412fd683",
   "metadata": {},
   "outputs": [],
   "source": [
    "%matplotlib inline\n",
    "import bilby\n",
    "import numpy as np\n",
    "import matplotlib.pyplot as plt\n",
    "from gwpy.timeseries import TimeSeries\n",
    "from gwpy.signal.filter_design import bandpass, concatenate_zpks, notch\n",
    "from gwpy.signal import filter_design\n",
    "from gwpy.plot import Plot"
   ]
  },
  {
   "cell_type": "code",
   "execution_count": 5,
   "id": "be85eb75-b984-42e7-bc7b-915837ff23cc",
   "metadata": {},
   "outputs": [],
   "source": [
    "def q_scan_multiduration(data, merger_time, durations):\n",
    "\n",
    "    #data = timeseries data\n",
    "\n",
    "    #durations = list of q_scan duration times (factor of 4)\n",
    "    from gwpy.timeseries import TimeSeries\n",
    "\n",
    "    qspecgrams = []\n",
    "\n",
    "    for i in range(len(durations)):\n",
    "        \n",
    "        qspecgram = data.q_transform(frange = [10,2048], outseg=(merger_time - ((3*durations[i])/4), merger_time + (durations[i]/4)),tres=0.002, fres = 0.5, whiten=True, qrange = [4,64], gps = merger_time)\n",
    "\n",
    "        qspecgrams.append(qspecgram)\n",
    "\n",
    "    return qspecgrams, durations\n",
    "\n",
    "durations = [0.4, 0.8, 1.2, 1.6]\n",
    "\n",
    "data1 = TimeSeries.read('injections/injection1-1131751540.txt')\n",
    "data2 = TimeSeries.read('injections/injection2-1132548203.txt')\n",
    "\n",
    "durations = [0.4, 0.8, 1.2, 1.6]\n",
    "data1_specgrams, _ = q_scan_multiduration(data1, 1131751540, durations)\n",
    "data2_specgrams, _ = q_scan_multiduration(data2, 1132548203, durations)"
   ]
  },
  {
   "cell_type": "code",
   "execution_count": null,
   "id": "04b79c39-54c8-43ac-bb8e-ffeca85160e4",
   "metadata": {},
   "outputs": [],
   "source": []
  }
 ],
 "metadata": {
  "kernelspec": {
   "display_name": "Python 3 (ipykernel)",
   "language": "python",
   "name": "python3"
  },
  "language_info": {
   "codemirror_mode": {
    "name": "ipython",
    "version": 3
   },
   "file_extension": ".py",
   "mimetype": "text/x-python",
   "name": "python",
   "nbconvert_exporter": "python",
   "pygments_lexer": "ipython3",
   "version": "3.10.12"
  }
 },
 "nbformat": 4,
 "nbformat_minor": 5
}
