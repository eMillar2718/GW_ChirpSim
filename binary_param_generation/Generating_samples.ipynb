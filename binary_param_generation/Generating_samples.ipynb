{
 "cells": [
  {
   "cell_type": "code",
   "execution_count": 1,
   "metadata": {},
   "outputs": [],
   "source": [
    "import intrinsic_params\n",
    "from bilby.core.result import read_in_result\n",
    "from scipy.interpolate import interp1d\n",
    "import numpy as np\n",
    "import deepdish as dd\n",
    "import matplotlib.pyplot as plt"
   ]
  },
  {
   "cell_type": "code",
   "execution_count": 2,
   "metadata": {},
   "outputs": [
    {
     "data": {
      "text/plain": [
       "'1.21.0'"
      ]
     },
     "execution_count": 2,
     "metadata": {},
     "output_type": "execute_result"
    }
   ],
   "source": [
    "np.__version__"
   ]
  },
  {
   "cell_type": "code",
   "execution_count": 3,
   "metadata": {},
   "outputs": [],
   "source": [
    "PP_path = '../GWTC-3-population-data/analyses/PowerLawPeak/o1o2o3_mass_c_iid_mag_iid_tilt_powerlaw_redshift_result.json'\n",
    "PP_result = read_in_result(PP_path)"
   ]
  },
  {
   "cell_type": "code",
   "execution_count": 4,
   "metadata": {},
   "outputs": [
    {
     "data": {
      "text/html": [
       "<div>\n",
       "<style scoped>\n",
       "    .dataframe tbody tr th:only-of-type {\n",
       "        vertical-align: middle;\n",
       "    }\n",
       "\n",
       "    .dataframe tbody tr th {\n",
       "        vertical-align: top;\n",
       "    }\n",
       "\n",
       "    .dataframe thead th {\n",
       "        text-align: right;\n",
       "    }\n",
       "</style>\n",
       "<table border=\"1\" class=\"dataframe\">\n",
       "  <thead>\n",
       "    <tr style=\"text-align: right;\">\n",
       "      <th></th>\n",
       "      <th>alpha</th>\n",
       "      <th>beta</th>\n",
       "      <th>mmax</th>\n",
       "      <th>mmin</th>\n",
       "      <th>lam</th>\n",
       "      <th>mpp</th>\n",
       "      <th>sigpp</th>\n",
       "      <th>delta_m</th>\n",
       "      <th>mu_chi</th>\n",
       "      <th>sigma_chi</th>\n",
       "      <th>...</th>\n",
       "      <th>lamb</th>\n",
       "      <th>amax</th>\n",
       "      <th>log_likelihood</th>\n",
       "      <th>log_prior</th>\n",
       "      <th>selection</th>\n",
       "      <th>pdet_n_effective</th>\n",
       "      <th>surveyed_hypervolume</th>\n",
       "      <th>log_10_rate</th>\n",
       "      <th>rate</th>\n",
       "      <th>min_event_n_effective</th>\n",
       "    </tr>\n",
       "  </thead>\n",
       "  <tbody>\n",
       "    <tr>\n",
       "      <th>0</th>\n",
       "      <td>3.476035</td>\n",
       "      <td>1.192781</td>\n",
       "      <td>91.137635</td>\n",
       "      <td>3.335027</td>\n",
       "      <td>0.045152</td>\n",
       "      <td>32.019619</td>\n",
       "      <td>7.361617</td>\n",
       "      <td>5.502380</td>\n",
       "      <td>0.430299</td>\n",
       "      <td>0.037676</td>\n",
       "      <td>...</td>\n",
       "      <td>0.593878</td>\n",
       "      <td>1.0</td>\n",
       "      <td>86.219165</td>\n",
       "      <td>-20.158271</td>\n",
       "      <td>0.001980</td>\n",
       "      <td>5600.884717</td>\n",
       "      <td>1102.923927</td>\n",
       "      <td>1.539321</td>\n",
       "      <td>34.619495</td>\n",
       "      <td>184.210871</td>\n",
       "    </tr>\n",
       "    <tr>\n",
       "      <th>1</th>\n",
       "      <td>2.843807</td>\n",
       "      <td>0.551632</td>\n",
       "      <td>92.336309</td>\n",
       "      <td>3.455594</td>\n",
       "      <td>0.099132</td>\n",
       "      <td>21.146326</td>\n",
       "      <td>9.635711</td>\n",
       "      <td>3.504334</td>\n",
       "      <td>0.229716</td>\n",
       "      <td>0.027052</td>\n",
       "      <td>...</td>\n",
       "      <td>3.899003</td>\n",
       "      <td>1.0</td>\n",
       "      <td>88.795439</td>\n",
       "      <td>-20.158271</td>\n",
       "      <td>0.000176</td>\n",
       "      <td>7628.305892</td>\n",
       "      <td>24548.963167</td>\n",
       "      <td>1.203419</td>\n",
       "      <td>15.974191</td>\n",
       "      <td>91.831207</td>\n",
       "    </tr>\n",
       "    <tr>\n",
       "      <th>2</th>\n",
       "      <td>4.127894</td>\n",
       "      <td>1.910420</td>\n",
       "      <td>99.382743</td>\n",
       "      <td>4.114949</td>\n",
       "      <td>0.058528</td>\n",
       "      <td>26.304442</td>\n",
       "      <td>9.105968</td>\n",
       "      <td>4.430823</td>\n",
       "      <td>0.297703</td>\n",
       "      <td>0.036759</td>\n",
       "      <td>...</td>\n",
       "      <td>-0.096742</td>\n",
       "      <td>1.0</td>\n",
       "      <td>89.598445</td>\n",
       "      <td>-20.158271</td>\n",
       "      <td>0.002577</td>\n",
       "      <td>4734.966457</td>\n",
       "      <td>617.064144</td>\n",
       "      <td>1.681428</td>\n",
       "      <td>48.020645</td>\n",
       "      <td>94.982019</td>\n",
       "    </tr>\n",
       "    <tr>\n",
       "      <th>3</th>\n",
       "      <td>4.512565</td>\n",
       "      <td>1.291055</td>\n",
       "      <td>98.845047</td>\n",
       "      <td>2.963035</td>\n",
       "      <td>0.007879</td>\n",
       "      <td>32.267134</td>\n",
       "      <td>9.914114</td>\n",
       "      <td>9.800366</td>\n",
       "      <td>0.378698</td>\n",
       "      <td>0.052658</td>\n",
       "      <td>...</td>\n",
       "      <td>3.511903</td>\n",
       "      <td>1.0</td>\n",
       "      <td>90.035214</td>\n",
       "      <td>-20.158271</td>\n",
       "      <td>0.000295</td>\n",
       "      <td>5654.797132</td>\n",
       "      <td>16703.390755</td>\n",
       "      <td>1.146385</td>\n",
       "      <td>14.008291</td>\n",
       "      <td>289.936772</td>\n",
       "    </tr>\n",
       "    <tr>\n",
       "      <th>4</th>\n",
       "      <td>2.772482</td>\n",
       "      <td>0.149371</td>\n",
       "      <td>94.491001</td>\n",
       "      <td>5.138160</td>\n",
       "      <td>0.035747</td>\n",
       "      <td>30.469008</td>\n",
       "      <td>8.569162</td>\n",
       "      <td>3.361789</td>\n",
       "      <td>0.336149</td>\n",
       "      <td>0.034270</td>\n",
       "      <td>...</td>\n",
       "      <td>2.514446</td>\n",
       "      <td>1.0</td>\n",
       "      <td>90.339131</td>\n",
       "      <td>-20.158271</td>\n",
       "      <td>0.000582</td>\n",
       "      <td>8247.427572</td>\n",
       "      <td>6336.065138</td>\n",
       "      <td>1.302851</td>\n",
       "      <td>20.084052</td>\n",
       "      <td>261.964627</td>\n",
       "    </tr>\n",
       "    <tr>\n",
       "      <th>...</th>\n",
       "      <td>...</td>\n",
       "      <td>...</td>\n",
       "      <td>...</td>\n",
       "      <td>...</td>\n",
       "      <td>...</td>\n",
       "      <td>...</td>\n",
       "      <td>...</td>\n",
       "      <td>...</td>\n",
       "      <td>...</td>\n",
       "      <td>...</td>\n",
       "      <td>...</td>\n",
       "      <td>...</td>\n",
       "      <td>...</td>\n",
       "      <td>...</td>\n",
       "      <td>...</td>\n",
       "      <td>...</td>\n",
       "      <td>...</td>\n",
       "      <td>...</td>\n",
       "      <td>...</td>\n",
       "      <td>...</td>\n",
       "      <td>...</td>\n",
       "    </tr>\n",
       "    <tr>\n",
       "      <th>11179</th>\n",
       "      <td>3.388853</td>\n",
       "      <td>1.075150</td>\n",
       "      <td>89.768520</td>\n",
       "      <td>4.684262</td>\n",
       "      <td>0.030388</td>\n",
       "      <td>35.727936</td>\n",
       "      <td>3.478996</td>\n",
       "      <td>5.246642</td>\n",
       "      <td>0.244086</td>\n",
       "      <td>0.027675</td>\n",
       "      <td>...</td>\n",
       "      <td>2.733047</td>\n",
       "      <td>1.0</td>\n",
       "      <td>107.871029</td>\n",
       "      <td>-20.158271</td>\n",
       "      <td>0.000525</td>\n",
       "      <td>3796.539977</td>\n",
       "      <td>7811.787060</td>\n",
       "      <td>1.235183</td>\n",
       "      <td>17.186329</td>\n",
       "      <td>71.639539</td>\n",
       "    </tr>\n",
       "    <tr>\n",
       "      <th>11180</th>\n",
       "      <td>3.684463</td>\n",
       "      <td>1.539779</td>\n",
       "      <td>81.785901</td>\n",
       "      <td>5.327478</td>\n",
       "      <td>0.030328</td>\n",
       "      <td>34.102957</td>\n",
       "      <td>3.505780</td>\n",
       "      <td>5.133147</td>\n",
       "      <td>0.251205</td>\n",
       "      <td>0.033394</td>\n",
       "      <td>...</td>\n",
       "      <td>3.171738</td>\n",
       "      <td>1.0</td>\n",
       "      <td>107.877236</td>\n",
       "      <td>-20.158271</td>\n",
       "      <td>0.000377</td>\n",
       "      <td>4006.532961</td>\n",
       "      <td>11954.783380</td>\n",
       "      <td>1.175202</td>\n",
       "      <td>14.969305</td>\n",
       "      <td>72.109121</td>\n",
       "    </tr>\n",
       "    <tr>\n",
       "      <th>11181</th>\n",
       "      <td>3.684463</td>\n",
       "      <td>1.539779</td>\n",
       "      <td>81.785901</td>\n",
       "      <td>5.327478</td>\n",
       "      <td>0.030328</td>\n",
       "      <td>34.102957</td>\n",
       "      <td>3.505780</td>\n",
       "      <td>5.133147</td>\n",
       "      <td>0.251205</td>\n",
       "      <td>0.033394</td>\n",
       "      <td>...</td>\n",
       "      <td>3.171738</td>\n",
       "      <td>1.0</td>\n",
       "      <td>107.877236</td>\n",
       "      <td>-20.158271</td>\n",
       "      <td>0.000377</td>\n",
       "      <td>4006.532961</td>\n",
       "      <td>11954.783380</td>\n",
       "      <td>1.169904</td>\n",
       "      <td>14.787819</td>\n",
       "      <td>72.109121</td>\n",
       "    </tr>\n",
       "    <tr>\n",
       "      <th>11182</th>\n",
       "      <td>3.573136</td>\n",
       "      <td>0.627634</td>\n",
       "      <td>88.689645</td>\n",
       "      <td>5.303211</td>\n",
       "      <td>0.029184</td>\n",
       "      <td>34.600418</td>\n",
       "      <td>3.531467</td>\n",
       "      <td>4.342366</td>\n",
       "      <td>0.229689</td>\n",
       "      <td>0.032670</td>\n",
       "      <td>...</td>\n",
       "      <td>3.456785</td>\n",
       "      <td>1.0</td>\n",
       "      <td>107.909312</td>\n",
       "      <td>-20.158271</td>\n",
       "      <td>0.000266</td>\n",
       "      <td>3745.787380</td>\n",
       "      <td>15818.169705</td>\n",
       "      <td>1.239911</td>\n",
       "      <td>17.374440</td>\n",
       "      <td>73.194989</td>\n",
       "    </tr>\n",
       "    <tr>\n",
       "      <th>11183</th>\n",
       "      <td>3.573136</td>\n",
       "      <td>0.627634</td>\n",
       "      <td>88.689645</td>\n",
       "      <td>5.303211</td>\n",
       "      <td>0.029184</td>\n",
       "      <td>34.600418</td>\n",
       "      <td>3.531467</td>\n",
       "      <td>4.342366</td>\n",
       "      <td>0.229689</td>\n",
       "      <td>0.032670</td>\n",
       "      <td>...</td>\n",
       "      <td>3.456785</td>\n",
       "      <td>1.0</td>\n",
       "      <td>107.909312</td>\n",
       "      <td>-20.158271</td>\n",
       "      <td>0.000266</td>\n",
       "      <td>3745.787380</td>\n",
       "      <td>15818.169705</td>\n",
       "      <td>1.110645</td>\n",
       "      <td>12.901634</td>\n",
       "      <td>73.194989</td>\n",
       "    </tr>\n",
       "  </tbody>\n",
       "</table>\n",
       "<p>11184 rows × 22 columns</p>\n",
       "</div>"
      ],
      "text/plain": [
       "          alpha      beta       mmax      mmin       lam        mpp     sigpp  \\\n",
       "0      3.476035  1.192781  91.137635  3.335027  0.045152  32.019619  7.361617   \n",
       "1      2.843807  0.551632  92.336309  3.455594  0.099132  21.146326  9.635711   \n",
       "2      4.127894  1.910420  99.382743  4.114949  0.058528  26.304442  9.105968   \n",
       "3      4.512565  1.291055  98.845047  2.963035  0.007879  32.267134  9.914114   \n",
       "4      2.772482  0.149371  94.491001  5.138160  0.035747  30.469008  8.569162   \n",
       "...         ...       ...        ...       ...       ...        ...       ...   \n",
       "11179  3.388853  1.075150  89.768520  4.684262  0.030388  35.727936  3.478996   \n",
       "11180  3.684463  1.539779  81.785901  5.327478  0.030328  34.102957  3.505780   \n",
       "11181  3.684463  1.539779  81.785901  5.327478  0.030328  34.102957  3.505780   \n",
       "11182  3.573136  0.627634  88.689645  5.303211  0.029184  34.600418  3.531467   \n",
       "11183  3.573136  0.627634  88.689645  5.303211  0.029184  34.600418  3.531467   \n",
       "\n",
       "        delta_m    mu_chi  sigma_chi  ...      lamb  amax  log_likelihood  \\\n",
       "0      5.502380  0.430299   0.037676  ...  0.593878   1.0       86.219165   \n",
       "1      3.504334  0.229716   0.027052  ...  3.899003   1.0       88.795439   \n",
       "2      4.430823  0.297703   0.036759  ... -0.096742   1.0       89.598445   \n",
       "3      9.800366  0.378698   0.052658  ...  3.511903   1.0       90.035214   \n",
       "4      3.361789  0.336149   0.034270  ...  2.514446   1.0       90.339131   \n",
       "...         ...       ...        ...  ...       ...   ...             ...   \n",
       "11179  5.246642  0.244086   0.027675  ...  2.733047   1.0      107.871029   \n",
       "11180  5.133147  0.251205   0.033394  ...  3.171738   1.0      107.877236   \n",
       "11181  5.133147  0.251205   0.033394  ...  3.171738   1.0      107.877236   \n",
       "11182  4.342366  0.229689   0.032670  ...  3.456785   1.0      107.909312   \n",
       "11183  4.342366  0.229689   0.032670  ...  3.456785   1.0      107.909312   \n",
       "\n",
       "       log_prior  selection  pdet_n_effective  surveyed_hypervolume  \\\n",
       "0     -20.158271   0.001980       5600.884717           1102.923927   \n",
       "1     -20.158271   0.000176       7628.305892          24548.963167   \n",
       "2     -20.158271   0.002577       4734.966457            617.064144   \n",
       "3     -20.158271   0.000295       5654.797132          16703.390755   \n",
       "4     -20.158271   0.000582       8247.427572           6336.065138   \n",
       "...          ...        ...               ...                   ...   \n",
       "11179 -20.158271   0.000525       3796.539977           7811.787060   \n",
       "11180 -20.158271   0.000377       4006.532961          11954.783380   \n",
       "11181 -20.158271   0.000377       4006.532961          11954.783380   \n",
       "11182 -20.158271   0.000266       3745.787380          15818.169705   \n",
       "11183 -20.158271   0.000266       3745.787380          15818.169705   \n",
       "\n",
       "       log_10_rate       rate  min_event_n_effective  \n",
       "0         1.539321  34.619495             184.210871  \n",
       "1         1.203419  15.974191              91.831207  \n",
       "2         1.681428  48.020645              94.982019  \n",
       "3         1.146385  14.008291             289.936772  \n",
       "4         1.302851  20.084052             261.964627  \n",
       "...            ...        ...                    ...  \n",
       "11179     1.235183  17.186329              71.639539  \n",
       "11180     1.175202  14.969305              72.109121  \n",
       "11181     1.169904  14.787819              72.109121  \n",
       "11182     1.239911  17.374440              73.194989  \n",
       "11183     1.110645  12.901634              73.194989  \n",
       "\n",
       "[11184 rows x 22 columns]"
      ]
     },
     "execution_count": 4,
     "metadata": {},
     "output_type": "execute_result"
    }
   ],
   "source": [
    "PP_hyperposterior_samples = PP_result.posterior.copy() # making a copy is best practice here so you don't accidentally modify things in-place\n",
    "PP_hyperposterior_samples"
   ]
  },
  {
   "cell_type": "code",
   "execution_count": 20,
   "metadata": {},
   "outputs": [],
   "source": [
    "sample = intrinsic_params.sample_intrinsic(PP_hyperposterior_samples.iloc[9], 100)"
   ]
  },
  {
   "cell_type": "code",
   "execution_count": 14,
   "metadata": {},
   "outputs": [
    {
     "data": {
      "text/plain": [
       "(array([44., 10., 11., 10.,  9.,  9.,  2.,  1.,  0.,  4.]),\n",
       " array([ 5.36082226, 10.57247239, 15.78412251, 20.99577264, 26.20742276,\n",
       "        31.41907289, 36.63072301, 41.84237314, 47.05402326, 52.26567339,\n",
       "        57.47732351]),\n",
       " <BarContainer object of 10 artists>)"
      ]
     },
     "execution_count": 14,
     "metadata": {},
     "output_type": "execute_result"
    },
    {
     "data": {
      "image/png": "[encoded data removed]",
      "text/plain": [
       "<Figure size 640x480 with 1 Axes>"
      ]
     },
     "metadata": {},
     "output_type": "display_data"
    }
   ],
   "source": [
    "plt.hist(sample['m1'])\n",
    "plt.xlabel('m_1 /solar masses')\n",
    "plt.ylabel(r'$p(m_1|\\Lambda_i)$')"
   ]
  },
  {
   "cell_type": "code",
   "execution_count": 15,
   "metadata": {},
   "outputs": [
    {
     "data": {
      "text/plain": [
       "(array([ 1.,  0.,  3.,  5.,  2., 10., 11., 14., 29., 25.]),\n",
       " array([0.65612746, 0.69039509, 0.72466272, 0.75893035, 0.79319798,\n",
       "        0.82746561, 0.86173324, 0.89600087, 0.9302685 , 0.96453613,\n",
       "        0.99880376]),\n",
       " <BarContainer object of 10 artists>)"
      ]
     },
     "execution_count": 15,
     "metadata": {},
     "output_type": "execute_result"
    },
    {
     "data": {
      "image/png": "[encoded data removed]",
      "text/plain": [
       "<Figure size 640x480 with 1 Axes>"
      ]
     },
     "metadata": {},
     "output_type": "display_data"
    }
   ],
   "source": [
    "plt.hist(sample['q'])"
   ]
  },
  {
   "cell_type": "code",
   "execution_count": 16,
   "metadata": {},
   "outputs": [
    {
     "data": {
      "text/plain": [
       "(array([ 1.,  2.,  4., 11., 12.,  7., 18., 13., 16., 16.]),\n",
       " array([0.41543216, 0.59791435, 0.78039654, 0.96287873, 1.14536092,\n",
       "        1.32784311, 1.5103253 , 1.69280749, 1.87528968, 2.05777187,\n",
       "        2.24025406]),\n",
       " <BarContainer object of 10 artists>)"
      ]
     },
     "execution_count": 16,
     "metadata": {},
     "output_type": "execute_result"
    },
    {
     "data": {
      "image/png": "[encoded data removed]",
      "text/plain": [
       "<Figure size 640x480 with 1 Axes>"
      ]
     },
     "metadata": {},
     "output_type": "display_data"
    }
   ],
   "source": [
    "plt.hist(sample['z'])"
   ]
  },
  {
   "cell_type": "code",
   "execution_count": 18,
   "metadata": {},
   "outputs": [
    {
     "data": {
      "text/plain": [
       "(array([21., 20., 15., 19.,  3.,  9.,  4.,  5.,  3.,  1.]),\n",
       " array([0.00530611, 0.08596319, 0.16662026, 0.24727733, 0.32793441,\n",
       "        0.40859148, 0.48924856, 0.56990563, 0.6505627 , 0.73121978,\n",
       "        0.81187685]),\n",
       " <BarContainer object of 10 artists>)"
      ]
     },
     "execution_count": 18,
     "metadata": {},
     "output_type": "execute_result"
    },
    {
     "data": {
      "image/png": "[encoded data removed]",
      "text/plain": [
       "<Figure size 640x480 with 1 Axes>"
      ]
     },
     "metadata": {},
     "output_type": "display_data"
    }
   ],
   "source": [
    "plt.hist(sample['chi_1'])"
   ]
  },
  {
   "cell_type": "code",
   "execution_count": 21,
   "metadata": {},
   "outputs": [
    {
     "data": {
      "text/plain": [
       "(array([ 5.,  4.,  9., 11.,  4., 11., 13., 16., 14., 13.]),\n",
       " array([-0.99336544, -0.79962939, -0.60589335, -0.4121573 , -0.21842125,\n",
       "        -0.02468521,  0.16905084,  0.36278689,  0.55652294,  0.75025898,\n",
       "         0.94399503]),\n",
       " <BarContainer object of 10 artists>)"
      ]
     },
     "execution_count": 21,
     "metadata": {},
     "output_type": "execute_result"
    },
    {
     "data": {
      "image/png": "[encoded data removed]",
      "text/plain": [
       "<Figure size 640x480 with 1 Axes>"
      ]
     },
     "metadata": {},
     "output_type": "display_data"
    }
   ],
   "source": [
    "plt.hist(sample['costilt_1'])"
   ]
  }
 ],
 "metadata": {
  "kernelspec": {
   "display_name": "Python 3.9.0 ('GWTC-3-population': conda)",
   "language": "python",
   "name": "python3"
  },
  "language_info": {
   "codemirror_mode": {
    "name": "ipython",
    "version": 3
   },
   "file_extension": ".py",
   "mimetype": "text/x-python",
   "name": "python",
   "nbconvert_exporter": "python",
   "pygments_lexer": "ipython3",
   "version": "3.9.0"
  },
  "orig_nbformat": 4,
  "vscode": {
   "interpreter": {
    "hash": "d21c81ae52df049a46deecacc45299844adff7229cbccdc945518f7681ab23c4"
   }
  }
 },
 "nbformat": 4,
 "nbformat_minor": 2
}
