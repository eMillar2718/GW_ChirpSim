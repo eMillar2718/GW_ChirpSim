{
 "cells": [
  {
   "cell_type": "code",
   "execution_count": 1,
   "id": "5c5442e8-2901-4710-879e-37ceea196708",
   "metadata": {},
   "outputs": [
    {
     "name": "stderr",
     "output_type": "stream",
     "text": [
      "/home/ethanmillar/gravwaves/lib/python3.10/site-packages/gwpy/time/__init__.py:36: UserWarning: Wswiglal-redir-stdio:\n",
      "\n",
      "SWIGLAL standard output/error redirection is enabled in IPython.\n",
      "This may lead to performance penalties. To disable locally, use:\n",
      "\n",
      "with lal.no_swig_redirect_standard_output_error():\n",
      "    ...\n",
      "\n",
      "To disable globally, use:\n",
      "\n",
      "lal.swig_redirect_standard_output_error(True)\n",
      "\n",
      "Note however that this will likely lead to error messages from\n",
      "LAL functions being either misdirected or lost when called from\n",
      "Jupyter notebooks.\n",
      "\n",
      "To suppress this warning, use:\n",
      "\n",
      "import warnings\n",
      "warnings.filterwarnings(\"ignore\", \"Wswiglal-redir-stdio\")\n",
      "import lal\n",
      "\n",
      "  from lal import LIGOTimeGPS\n"
     ]
    }
   ],
   "source": [
    "%matplotlib inline\n",
    "import bilby\n",
    "import numpy as np\n",
    "import matplotlib.pyplot as plt\n",
    "from gwpy.timeseries import TimeSeries\n",
    "from gwpy.signal.filter_design import bandpass, concatenate_zpks, notch\n",
    "from gwpy.signal import filter_design\n",
    "from gwpy.plot import Plot"
   ]
  },
  {
   "cell_type": "markdown",
   "id": "52d3a98d-06f1-4a7c-a12c-55fbec12b6a6",
   "metadata": {},
   "source": [
    "# Setting Universal Parameters"
   ]
  },
  {
   "cell_type": "code",
   "execution_count": 2,
   "id": "8baf153b-c4aa-499e-a634-aaee49bad762",
   "metadata": {},
   "outputs": [],
   "source": [
    "sampling_frequency = 4096\n",
    "duration = 4\n",
    "minimum_frequency = 20\n",
    "\n",
    "merger_time = 1126259462 #np.random.randint(1126051217, 1137254417-duration)\n",
    "\n",
    "start_time = merger_time - (duration/2)\n",
    "end_time = start_time + duration"
   ]
  },
  {
   "cell_type": "markdown",
   "id": "512fc903-8574-4643-aa93-acd66da27b21",
   "metadata": {},
   "source": [
    "# Setting Simulated Signal Parameters"
   ]
  },
  {
   "cell_type": "code",
   "execution_count": 3,
   "id": "6d0d8c22-00e9-4ec9-88fc-a3ff06c6f497",
   "metadata": {},
   "outputs": [
    {
     "name": "stderr",
     "output_type": "stream",
     "text": [
      "14:58 bilby INFO    : Waveform generator initiated with\n",
      "  frequency_domain_source_model: bilby.gw.source.lal_binary_black_hole\n",
      "  time_domain_source_model: None\n",
      "  parameter_conversion: bilby.gw.conversion.convert_to_lal_binary_black_hole_parameters\n"
     ]
    }
   ],
   "source": [
    "injection_parameters = dict(\n",
    "    mass_1=36., \n",
    "    mass_2=29.,\n",
    "    a_1=0.4, \n",
    "    a_2=0.3, \n",
    "    tilt_1=0.5, \n",
    "    tilt_2=1.0, \n",
    "    phi_12=1.7, \n",
    "    phi_jl=0.3,\n",
    "    luminosity_distance=500., \n",
    "    theta_jn=0.4, \n",
    "    psi=2.659,\n",
    "    phase=1.3, \n",
    "    geocent_time=merger_time,\n",
    "    ra=1.375, \n",
    "    dec=-1.2108\n",
    "    )\n",
    "\n",
    "\n",
    "waveform_arguments = dict(\n",
    "    waveform_approximant=\"IMRPhenomPv2\",\n",
    "    reference_frequency=minimum_frequency,\n",
    "    minimum_frequency=minimum_frequency,\n",
    "    start_time=merger_time - 2\n",
    ")\n",
    "\n",
    "waveform_generator = bilby.gw.WaveformGenerator(\n",
    "    duration = duration,\n",
    "    sampling_frequency=sampling_frequency,\n",
    "    frequency_domain_source_model=bilby.gw.source.lal_binary_black_hole,\n",
    "    parameter_conversion=bilby.gw.conversion.convert_to_lal_binary_black_hole_parameters,\n",
    "    waveform_arguments=waveform_arguments,\n",
    ")\n"
   ]
  },
  {
   "cell_type": "markdown",
   "id": "3ab1008e-540b-445a-a9a0-b5f3b6bc61ac",
   "metadata": {},
   "source": [
    "# Defining the Strain Data"
   ]
  },
  {
   "cell_type": "code",
   "execution_count": 4,
   "id": "6068264c-c30c-4f41-9b27-10eca4183b62",
   "metadata": {},
   "outputs": [
    {
     "ename": "ValueError",
     "evalue": "Cannot find a GWOSC dataset for L1 covering [1126259460, 1126259464)",
     "output_type": "error",
     "traceback": [
      "\u001b[0;31m---------------------------------------------------------------------------\u001b[0m",
      "\u001b[0;31mValueError\u001b[0m                                Traceback (most recent call last)",
      "Cell \u001b[0;32mIn[4], line 1\u001b[0m\n\u001b[0;32m----> 1\u001b[0m time_series \u001b[38;5;241m=\u001b[39m \u001b[43mTimeSeries\u001b[49m\u001b[38;5;241;43m.\u001b[39;49m\u001b[43mfetch_open_data\u001b[49m\u001b[43m(\u001b[49m\u001b[38;5;124;43m'\u001b[39;49m\u001b[38;5;124;43mL1\u001b[39;49m\u001b[38;5;124;43m'\u001b[39;49m\u001b[43m,\u001b[49m\u001b[43m \u001b[49m\u001b[43mstart_time\u001b[49m\u001b[43m,\u001b[49m\u001b[43m \u001b[49m\u001b[43mend_time\u001b[49m\u001b[43m,\u001b[49m\u001b[43m \u001b[49m\u001b[43msample_rate\u001b[49m\u001b[38;5;241;43m=\u001b[39;49m\u001b[38;5;241;43m16348\u001b[39;49m\u001b[43m)\u001b[49m \u001b[38;5;66;03m#Fetching the data from GWOSC\u001b[39;00m\n\u001b[1;32m      3\u001b[0m plot \u001b[38;5;241m=\u001b[39m time_series\u001b[38;5;241m.\u001b[39mplot()\n\u001b[1;32m      5\u001b[0m ax \u001b[38;5;241m=\u001b[39m plot\u001b[38;5;241m.\u001b[39mgca()\n",
      "File \u001b[0;32m~/gravwaves/lib/python3.10/site-packages/gwpy/timeseries/core.py:472\u001b[0m, in \u001b[0;36mTimeSeriesBase.fetch_open_data\u001b[0;34m(cls, ifo, start, end, sample_rate, version, format, host, verbose, cache, **kwargs)\u001b[0m\n\u001b[1;32m    386\u001b[0m \u001b[38;5;250m\u001b[39m\u001b[38;5;124;03m\"\"\"Fetch open-access data from the LIGO Open Science Center\u001b[39;00m\n\u001b[1;32m    387\u001b[0m \n\u001b[1;32m    388\u001b[0m \u001b[38;5;124;03mParameters\u001b[39;00m\n\u001b[0;32m   (...)\u001b[0m\n\u001b[1;32m    469\u001b[0m \u001b[38;5;124;03m`StateVector` data are not available in ``txt.gz`` format.\u001b[39;00m\n\u001b[1;32m    470\u001b[0m \u001b[38;5;124;03m\"\"\"\u001b[39;00m\n\u001b[1;32m    471\u001b[0m \u001b[38;5;28;01mfrom\u001b[39;00m \u001b[38;5;21;01m.\u001b[39;00m\u001b[38;5;21;01mio\u001b[39;00m\u001b[38;5;21;01m.\u001b[39;00m\u001b[38;5;21;01mlosc\u001b[39;00m \u001b[38;5;28;01mimport\u001b[39;00m fetch_gwosc_data\n\u001b[0;32m--> 472\u001b[0m \u001b[38;5;28;01mreturn\u001b[39;00m \u001b[43mfetch_gwosc_data\u001b[49m\u001b[43m(\u001b[49m\n\u001b[1;32m    473\u001b[0m \u001b[43m    \u001b[49m\u001b[43mifo\u001b[49m\u001b[43m,\u001b[49m\n\u001b[1;32m    474\u001b[0m \u001b[43m    \u001b[49m\u001b[43mstart\u001b[49m\u001b[43m,\u001b[49m\n\u001b[1;32m    475\u001b[0m \u001b[43m    \u001b[49m\u001b[43mend\u001b[49m\u001b[43m,\u001b[49m\n\u001b[1;32m    476\u001b[0m \u001b[43m    \u001b[49m\u001b[43msample_rate\u001b[49m\u001b[38;5;241;43m=\u001b[39;49m\u001b[43msample_rate\u001b[49m\u001b[43m,\u001b[49m\n\u001b[1;32m    477\u001b[0m \u001b[43m    \u001b[49m\u001b[43mversion\u001b[49m\u001b[38;5;241;43m=\u001b[39;49m\u001b[43mversion\u001b[49m\u001b[43m,\u001b[49m\n\u001b[1;32m    478\u001b[0m \u001b[43m    \u001b[49m\u001b[38;5;28;43mformat\u001b[39;49m\u001b[38;5;241;43m=\u001b[39;49m\u001b[38;5;28;43mformat\u001b[39;49m\u001b[43m,\u001b[49m\n\u001b[1;32m    479\u001b[0m \u001b[43m    \u001b[49m\u001b[43mverbose\u001b[49m\u001b[38;5;241;43m=\u001b[39;49m\u001b[43mverbose\u001b[49m\u001b[43m,\u001b[49m\n\u001b[1;32m    480\u001b[0m \u001b[43m    \u001b[49m\u001b[43mcache\u001b[49m\u001b[38;5;241;43m=\u001b[39;49m\u001b[43mcache\u001b[49m\u001b[43m,\u001b[49m\n\u001b[1;32m    481\u001b[0m \u001b[43m    \u001b[49m\u001b[43mhost\u001b[49m\u001b[38;5;241;43m=\u001b[39;49m\u001b[43mhost\u001b[49m\u001b[43m,\u001b[49m\n\u001b[1;32m    482\u001b[0m \u001b[43m    \u001b[49m\u001b[38;5;28;43mcls\u001b[39;49m\u001b[38;5;241;43m=\u001b[39;49m\u001b[38;5;28;43mcls\u001b[39;49m\u001b[43m,\u001b[49m\n\u001b[1;32m    483\u001b[0m \u001b[43m    \u001b[49m\u001b[38;5;241;43m*\u001b[39;49m\u001b[38;5;241;43m*\u001b[39;49m\u001b[43mkwargs\u001b[49m\u001b[43m,\u001b[49m\n\u001b[1;32m    484\u001b[0m \u001b[43m\u001b[49m\u001b[43m)\u001b[49m\n",
      "File \u001b[0;32m~/gravwaves/lib/python3.10/site-packages/gwpy/timeseries/io/losc.py:152\u001b[0m, in \u001b[0;36mfetch_gwosc_data\u001b[0;34m(detector, start, end, cls, **kwargs)\u001b[0m\n\u001b[1;32m    150\u001b[0m \u001b[38;5;28;01mif\u001b[39;00m \u001b[38;5;124m'\u001b[39m\u001b[38;5;124msample_rate\u001b[39m\u001b[38;5;124m'\u001b[39m \u001b[38;5;129;01min\u001b[39;00m url_kw:  \u001b[38;5;66;03m# format as Hertz\u001b[39;00m\n\u001b[1;32m    151\u001b[0m     url_kw[\u001b[38;5;124m'\u001b[39m\u001b[38;5;124msample_rate\u001b[39m\u001b[38;5;124m'\u001b[39m] \u001b[38;5;241m=\u001b[39m Quantity(url_kw[\u001b[38;5;124m'\u001b[39m\u001b[38;5;124msample_rate\u001b[39m\u001b[38;5;124m'\u001b[39m], \u001b[38;5;124m'\u001b[39m\u001b[38;5;124mHz\u001b[39m\u001b[38;5;124m'\u001b[39m)\u001b[38;5;241m.\u001b[39mvalue\n\u001b[0;32m--> 152\u001b[0m cache \u001b[38;5;241m=\u001b[39m \u001b[43mget_urls\u001b[49m\u001b[43m(\u001b[49m\u001b[43mdetector\u001b[49m\u001b[43m,\u001b[49m\u001b[43m \u001b[49m\u001b[38;5;28;43mint\u001b[39;49m\u001b[43m(\u001b[49m\u001b[43mstart\u001b[49m\u001b[43m)\u001b[49m\u001b[43m,\u001b[49m\u001b[43m \u001b[49m\u001b[38;5;28;43mint\u001b[39;49m\u001b[43m(\u001b[49m\u001b[43mceil\u001b[49m\u001b[43m(\u001b[49m\u001b[43mend\u001b[49m\u001b[43m)\u001b[49m\u001b[43m)\u001b[49m\u001b[43m,\u001b[49m\u001b[43m \u001b[49m\u001b[38;5;241;43m*\u001b[39;49m\u001b[38;5;241;43m*\u001b[39;49m\u001b[43murl_kw\u001b[49m\u001b[43m)\u001b[49m\n\u001b[1;32m    153\u001b[0m \u001b[38;5;66;03m# if event dataset, pick shortest file that covers the request\u001b[39;00m\n\u001b[1;32m    154\u001b[0m \u001b[38;5;66;03m# -- this is a bit hacky, and presumes that only an event dataset\u001b[39;00m\n\u001b[1;32m    155\u001b[0m \u001b[38;5;66;03m# -- would be produced with overlapping files.\u001b[39;00m\n\u001b[1;32m    156\u001b[0m \u001b[38;5;66;03m# -- This should probably be improved to use dataset information\u001b[39;00m\n\u001b[1;32m    157\u001b[0m \u001b[38;5;28;01mif\u001b[39;00m \u001b[38;5;28mlen\u001b[39m(cache) \u001b[38;5;129;01mand\u001b[39;00m _overlapping(cache):\n",
      "File \u001b[0;32m~/gravwaves/lib/python3.10/site-packages/gwosc/locate.py:132\u001b[0m, in \u001b[0;36mget_urls\u001b[0;34m(detector, start, end, dataset, version, sample_rate, format, host)\u001b[0m\n\u001b[1;32m    129\u001b[0m         \u001b[38;5;28;01mif\u001b[39;00m utils\u001b[38;5;241m.\u001b[39mfull_coverage(urls, (start, end)):\n\u001b[1;32m    130\u001b[0m             \u001b[38;5;28;01mreturn\u001b[39;00m urls\n\u001b[0;32m--> 132\u001b[0m \u001b[38;5;28;01mraise\u001b[39;00m \u001b[38;5;167;01mValueError\u001b[39;00m(\u001b[38;5;124m\"\u001b[39m\u001b[38;5;124mCannot find a GWOSC dataset for \u001b[39m\u001b[38;5;132;01m%s\u001b[39;00m\u001b[38;5;124m covering [\u001b[39m\u001b[38;5;132;01m%d\u001b[39;00m\u001b[38;5;124m, \u001b[39m\u001b[38;5;132;01m%d\u001b[39;00m\u001b[38;5;124m)\u001b[39m\u001b[38;5;124m\"\u001b[39m\n\u001b[1;32m    133\u001b[0m                  \u001b[38;5;241m%\u001b[39m (detector, start, end))\n",
      "\u001b[0;31mValueError\u001b[0m: Cannot find a GWOSC dataset for L1 covering [1126259460, 1126259464)"
     ]
    }
   ],
   "source": [
    "time_series = TimeSeries.fetch_open_data('L1', start_time, end_time, sample_rate=16348) #Fetching the data from GWOSC\n",
    "\n",
    "plot = time_series.plot()\n",
    "\n",
    "ax = plot.gca()\n",
    "ax.set_title('Hanford Strain data')\n",
    "ax.set_ylabel('Strain')\n",
    "\n",
    "plot = plt.show()"
   ]
  },
  {
   "cell_type": "markdown",
   "id": "f0341efb-ce1a-4b60-beb5-f3de9bb87398",
   "metadata": {},
   "source": [
    "## Plotting the generated wave with no noise"
   ]
  },
  {
   "cell_type": "markdown",
   "id": "a25edc01-ddea-4155-98e8-c3882ae08a71",
   "metadata": {},
   "source": [
    "Plotting the simualted waveform for troubleshooting, allows us to see what the waveform looks like in isolation"
   ]
  },
  {
   "cell_type": "code",
   "execution_count": null,
   "id": "4d116cef-a191-4192-acc5-9329c4331428",
   "metadata": {},
   "outputs": [],
   "source": [
    "#Setting empty interferometer \n",
    "H1 = bilby.gw.detector.get_empty_interferometer('H1')\n",
    "\n",
    "#Setting the strain data with zero noise\n",
    "H1.set_strain_data_from_zero_noise(sampling_frequency=sampling_frequency, duration=duration, start_time = start_time)\n",
    "\n",
    "#Injecting generated waveform into interferomoter\n",
    "H1.inject_signal_from_waveform_generator(parameters=injection_parameters, waveform_generator=waveform_generator)\n",
    "\n",
    "#Converting strain data into timeseries\n",
    "timeseries_no_noise = TimeSeries(\n",
    "            data=H1.strain_data.time_domain_strain, times=H1.strain_data.time_array)\n",
    "\n",
    "#Plotting the simulated waveform\n",
    "\n",
    "plot = timeseries_no_noise.plot()\n",
    "\n",
    "ax = plot.gca()\n",
    "ax.set_title('Simulated Waveform')\n",
    "ax.set_ylabel('Strain')\n",
    "plt.xlabel('Time (s)')\n",
    "\n",
    "plot = plt.show()"
   ]
  },
  {
   "cell_type": "markdown",
   "id": "53b110ad-9dd1-4dd8-ac73-58d7f74b9e03",
   "metadata": {},
   "source": [
    "# Injecting the signal into the GWOSC Strain"
   ]
  },
  {
   "cell_type": "code",
   "execution_count": null,
   "id": "8d34fa32-b0db-4583-9451-81d8a2d57510",
   "metadata": {},
   "outputs": [],
   "source": [
    "data_injected, metadata = bilby.gw.detector.inject_signal_into_gwpy_timeseries(data = time_series,\n",
    "    waveform_generator=waveform_generator, parameters=injection_parameters, det = 'H1'\n",
    ")\n",
    "\n",
    "plot = data_injected.plot()\n",
    "\n",
    "ax = plot.gca()\n",
    "ax.set_ylabel('Strain')\n",
    "ax.set_title('Hanford Strain with Injected Signal')\n",
    "\n",
    "plt.show()"
   ]
  },
  {
   "cell_type": "markdown",
   "id": "3ad289f0-98b8-4257-94a4-93e30043c08f",
   "metadata": {},
   "source": [
    "# Filtering the data"
   ]
  },
  {
   "cell_type": "code",
   "execution_count": null,
   "id": "a625a949-0ecd-4093-a5fb-5de0409a1995",
   "metadata": {},
   "outputs": [],
   "source": [
    "#Setting the bandpass filter to cut out high and low frequencies\n",
    "bp = filter_design.bandpass(50, 250, time_series.sample_rate)\n",
    "\n",
    "#Setting notch filters for the first 3 harmonics of 60Hz AC mains power supply\n",
    "notches = [filter_design.notch(line, time_series.sample_rate) for\n",
    "           line in (60, 120, 180)]\n",
    "\n",
    "#Concatenate filters together\n",
    "zpk = filter_design.concatenate_zpks(bp, *notches)\n",
    "\n",
    "#Applying the filter\n",
    "data_filtered = data_injected.filter(zpk, filtfilt=True)\n",
    "\n",
    "#Cropping the data to remove corrupted data at the beginning and end of data (caused by filter) \n",
    "data_filtered_crop = data_filtered.crop(start_time+5,end_time-5)\n",
    "\n",
    "#Cropping unfiltered data for comparison\n",
    "data_injected_crop = data_injected.crop(start_time+5,end_time-5)\n",
    "timeseries_no_noise_crop = timeseries_no_noise.crop(start_time+5,end_time-5)\n",
    "\n",
    "plot = Plot(data_injected_crop, data_filtered_crop,timeseries_no_noise_crop, figsize = [15,12], separate=True, sharex=True)\n",
    "\n",
    "ax1,ax2,ax3 = plot.axes\n",
    "\n",
    "ax1.set_title('LIGO-Hanford strain data with Injected Signal')\n",
    "ax1.text(1.0, 1.01, 'Unfiltered data', transform=ax1.transAxes, ha='right')\n",
    "ax1.set_ylabel('Amplitude [strain]', y=-0.2)\n",
    "\n",
    "ax2.set_ylabel('')\n",
    "ax2.text(1.0, 1.01, r'50-250\\,Hz bandpass, notches at 60, 120, 180 Hz',\n",
    "         transform=ax2.transAxes, ha='right')\n",
    "\n",
    "ax3.set_ylabel('')\n",
    "ax3.text(1.0, 1.01, r'Simulated Signal',\n",
    "         transform=ax3.transAxes, ha='right')\n",
    "\n",
    "\n",
    "plot.show()"
   ]
  },
  {
   "cell_type": "markdown",
   "id": "f88c5cce-bf4a-421e-b427-f9749df1a06c",
   "metadata": {},
   "source": [
    "# Plotting Q-scan of the signal Data"
   ]
  },
  {
   "cell_type": "code",
   "execution_count": null,
   "id": "7b0b5599-d30d-47f6-9803-fee5ea12e488",
   "metadata": {},
   "outputs": [],
   "source": [
    "#Performing Q-transform of the injected data timeseries\n",
    "#outseg selects the GPS segment where the Q scan is taken over\n",
    "\n",
    "centre_time = merger_time\n",
    "qspecgram = data_injected.q_transform(frange = [10,2048], outseg=(merger_time - 0.3, merger_time+0.1),tres=0.002, fres = 0.5, whiten=True, qrange = [4,64], gps = centre_time)\n",
    "\n",
    "plot = qspecgram.plot(figsize=[8, 4])\n",
    "ax = plot.gca()\n",
    "\n",
    "ax.set_title('Simulated Chirp Signal Q-Scan')\n",
    "ax.set_xscale('seconds')\n",
    "ax.set_yscale('log')\n",
    "ax.set_ylim(10,2048)\n",
    "ax.set_xlim(merger_time-0.3, merger_time + 0.1)\n",
    "ax.set_ylabel('Frequency [Hz]')\n",
    "ax.grid(False)\n",
    "ax.colorbar(cmap='viridis', label='Normalized energy')\n",
    "#plt.savefig('Q_scan.jpeg')\n",
    "plot.show()"
   ]
  },
  {
   "cell_type": "code",
   "execution_count": null,
   "id": "bacadf80-8f8a-4c82-9b41-1dc116cd40ea",
   "metadata": {},
   "outputs": [],
   "source": []
  }
 ],
 "metadata": {
  "kernelspec": {
   "display_name": "Python 3 (ipykernel)",
   "language": "python",
   "name": "python3"
  },
  "language_info": {
   "codemirror_mode": {
    "name": "ipython",
    "version": 3
   },
   "file_extension": ".py",
   "mimetype": "text/x-python",
   "name": "python",
   "nbconvert_exporter": "python",
   "pygments_lexer": "ipython3",
   "version": "3.10.12"
  }
 },
 "nbformat": 4,
 "nbformat_minor": 5
}
